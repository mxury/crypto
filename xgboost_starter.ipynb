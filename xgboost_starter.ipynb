{
 "cells": [
  {
   "cell_type": "code",
   "execution_count": 178,
   "metadata": {},
   "outputs": [],
   "source": [
    "from lstm_data_gen import * \n",
    "import numpy as np\n",
    "import pandas as pd\n",
    "import xgboost\n",
    "from keras.models import load_model\n",
    "import matplotlib.pyplot as plt\n",
    "from sklearn.pipeline import Pipeline\n",
    "from cross_validiation_split import BlockTSSplit\n",
    "from sklearn.model_selection import cross_val_score, TimeSeriesSplit, learning_curve\n",
    "from xgboost import XGBRegressor\n",
    "from misc import log_return"
   ]
  },
  {
   "cell_type": "code",
   "execution_count": 2,
   "metadata": {},
   "outputs": [
    {
     "name": "stdout",
     "output_type": "stream",
     "text": [
      "X.shape :(525601, 8)\n"
     ]
    },
    {
     "data": {
      "text/html": [
       "<div>\n",
       "<style scoped>\n",
       "    .dataframe tbody tr th:only-of-type {\n",
       "        vertical-align: middle;\n",
       "    }\n",
       "\n",
       "    .dataframe tbody tr th {\n",
       "        vertical-align: top;\n",
       "    }\n",
       "\n",
       "    .dataframe thead th {\n",
       "        text-align: right;\n",
       "    }\n",
       "</style>\n",
       "<table border=\"1\" class=\"dataframe\">\n",
       "  <thead>\n",
       "    <tr style=\"text-align: right;\">\n",
       "      <th></th>\n",
       "      <th>open</th>\n",
       "      <th>close</th>\n",
       "      <th>high</th>\n",
       "      <th>low</th>\n",
       "      <th>ewm_21</th>\n",
       "      <th>ewm_35</th>\n",
       "      <th>ewm_80</th>\n",
       "      <th>ewm_250</th>\n",
       "    </tr>\n",
       "  </thead>\n",
       "  <tbody>\n",
       "    <tr>\n",
       "      <th>2021-02-13 08:11:00</th>\n",
       "      <td>47165.0</td>\n",
       "      <td>47339.0</td>\n",
       "      <td>47339.0</td>\n",
       "      <td>47163.0</td>\n",
       "      <td>47149.738343</td>\n",
       "      <td>47227.943336</td>\n",
       "      <td>47405.920334</td>\n",
       "      <td>47627.757889</td>\n",
       "    </tr>\n",
       "    <tr>\n",
       "      <th>2021-02-13 08:12:00</th>\n",
       "      <td>47339.0</td>\n",
       "      <td>47268.0</td>\n",
       "      <td>47342.0</td>\n",
       "      <td>47246.0</td>\n",
       "      <td>47160.489403</td>\n",
       "      <td>47230.168707</td>\n",
       "      <td>47402.514894</td>\n",
       "      <td>47624.891292</td>\n",
       "    </tr>\n",
       "    <tr>\n",
       "      <th>2021-02-13 08:13:00</th>\n",
       "      <td>47264.0</td>\n",
       "      <td>47290.0</td>\n",
       "      <td>47299.0</td>\n",
       "      <td>47264.0</td>\n",
       "      <td>47172.263093</td>\n",
       "      <td>47233.492667</td>\n",
       "      <td>47399.736748</td>\n",
       "      <td>47622.222836</td>\n",
       "    </tr>\n",
       "    <tr>\n",
       "      <th>2021-02-13 08:14:00</th>\n",
       "      <td>47295.0</td>\n",
       "      <td>47290.0</td>\n",
       "      <td>47295.0</td>\n",
       "      <td>47287.0</td>\n",
       "      <td>47182.966449</td>\n",
       "      <td>47236.631964</td>\n",
       "      <td>47397.027199</td>\n",
       "      <td>47619.575642</td>\n",
       "    </tr>\n",
       "    <tr>\n",
       "      <th>2021-02-13 08:15:00</th>\n",
       "      <td>47288.0</td>\n",
       "      <td>47174.0</td>\n",
       "      <td>47292.0</td>\n",
       "      <td>47174.0</td>\n",
       "      <td>47182.151317</td>\n",
       "      <td>47233.152410</td>\n",
       "      <td>47391.520355</td>\n",
       "      <td>47616.025238</td>\n",
       "    </tr>\n",
       "  </tbody>\n",
       "</table>\n",
       "</div>"
      ],
      "text/plain": [
       "                        open    close     high      low        ewm_21  \\\n",
       "2021-02-13 08:11:00  47165.0  47339.0  47339.0  47163.0  47149.738343   \n",
       "2021-02-13 08:12:00  47339.0  47268.0  47342.0  47246.0  47160.489403   \n",
       "2021-02-13 08:13:00  47264.0  47290.0  47299.0  47264.0  47172.263093   \n",
       "2021-02-13 08:14:00  47295.0  47290.0  47295.0  47287.0  47182.966449   \n",
       "2021-02-13 08:15:00  47288.0  47174.0  47292.0  47174.0  47182.151317   \n",
       "\n",
       "                           ewm_35        ewm_80       ewm_250  \n",
       "2021-02-13 08:11:00  47227.943336  47405.920334  47627.757889  \n",
       "2021-02-13 08:12:00  47230.168707  47402.514894  47624.891292  \n",
       "2021-02-13 08:13:00  47233.492667  47399.736748  47622.222836  \n",
       "2021-02-13 08:14:00  47236.631964  47397.027199  47619.575642  \n",
       "2021-02-13 08:15:00  47233.152410  47391.520355  47616.025238  "
      ]
     },
     "metadata": {},
     "output_type": "display_data"
    },
    {
     "name": "stderr",
     "output_type": "stream",
     "text": [
      "2022-07-18 16:15:19.790521: W tensorflow/stream_executor/platform/default/dso_loader.cc:64] Could not load dynamic library 'libcuda.so.1'; dlerror: libcuda.so.1: cannot open shared object file: No such file or directory\n",
      "2022-07-18 16:15:19.790576: W tensorflow/stream_executor/cuda/cuda_driver.cc:269] failed call to cuInit: UNKNOWN ERROR (303)\n",
      "2022-07-18 16:15:19.790615: I tensorflow/stream_executor/cuda/cuda_diagnostics.cc:156] kernel driver does not appear to be running on this host (mikiu-xps13): /proc/driver/nvidia/version does not exist\n",
      "2022-07-18 16:15:19.791063: I tensorflow/core/platform/cpu_feature_guard.cc:193] This TensorFlow binary is optimized with oneAPI Deep Neural Network Library (oneDNN) to use the following CPU instructions in performance-critical operations:  AVX2 FMA\n",
      "To enable them in other operations, rebuild TensorFlow with the appropriate compiler flags.\n"
     ]
    }
   ],
   "source": [
    "btc_lstm = pd.read_pickle('btc.pkl')\n",
    "\n",
    "last_year = btc_lstm.index[-1] - pd.Timedelta('365D')\n",
    "\n",
    "X_lstm = btc_lstm.loc[last_year:]\n",
    "X_lstm = X_lstm.drop(['volume','log_rtrn_1m'],axis=1)\n",
    "print(f'X.shape :{X_lstm.shape}')\n",
    "display(X_lstm.head())\n",
    "\n",
    "cv = None\n",
    "\n",
    "seq_length = 5\n",
    "sampling_rate = 1\n",
    "full = True\n",
    "\n",
    "full_dataset = dataset_generator(X_lstm, cv, seq_length=seq_length, sampling_rate=sampling_rate, full=full)\n",
    "\n",
    "\n",
    "X_lstm = full_dataset.fold_data[0]"
   ]
  },
  {
   "cell_type": "code",
   "execution_count": 3,
   "metadata": {},
   "outputs": [],
   "source": [
    "lstm_model = load_model('./saved_models/lstm_seq5_dropout.keras')"
   ]
  },
  {
   "cell_type": "code",
   "execution_count": 4,
   "metadata": {},
   "outputs": [
    {
     "name": "stdout",
     "output_type": "stream",
     "text": [
      "2054/2054 [==============================] - 43s 21ms/step\n"
     ]
    }
   ],
   "source": [
    "y_lstm = lstm_model.predict(X_lstm.train_batch)"
   ]
  },
  {
   "cell_type": "code",
   "execution_count": 19,
   "metadata": {},
   "outputs": [],
   "source": [
    "real_targets = X_lstm.train_norm.close.shift(-1).dropna().iloc[4:-4].values\n",
    "new_targets = real_targets[:,None] - y_lstm"
   ]
  },
  {
   "cell_type": "code",
   "execution_count": 6,
   "metadata": {},
   "outputs": [
    {
     "name": "stdout",
     "output_type": "stream",
     "text": [
      "2054/2054 [==============================] - 46s 22ms/step - loss: 3.1400e-04 - mae: 0.0114\n"
     ]
    },
    {
     "data": {
      "text/plain": [
       "[0.0003140007029287517, 0.01141360867768526]"
      ]
     },
     "execution_count": 6,
     "metadata": {},
     "output_type": "execute_result"
    }
   ],
   "source": [
    "lstm_model.evaluate(X_lstm.train_batch)"
   ]
  },
  {
   "cell_type": "code",
   "execution_count": 24,
   "metadata": {},
   "outputs": [
    {
     "data": {
      "image/png": "[encoded data removed]",
      "text/plain": [
       "<Figure size 1008x576 with 1 Axes>"
      ]
     },
     "metadata": {
      "needs_background": "light"
     },
     "output_type": "display_data"
    }
   ],
   "source": [
    "fig, ax = plt.subplots(figsize=(14,8))\n",
    "\n",
    "ax.plot(y_lstm, label='predictions')\n",
    "ax.plot(real_targets, label='real',alpha=0.6)\n",
    "ax.plot(new_targets, label='residuals',color='tab:purple', alpha=0.5)\n",
    "ax.legend()\n",
    "ax.set_title('BTC price over the past year')\n",
    "plt.show()\n"
   ]
  },
  {
   "cell_type": "markdown",
   "metadata": {},
   "source": [
    "From the residuals we can see that the model is far away from the real values when there are quick large changes in the price. Hence for the XGBoost model the features should be engineered to best mimic these large changes. "
   ]
  },
  {
   "cell_type": "code",
   "execution_count": 26,
   "metadata": {},
   "outputs": [],
   "source": [
    "from sklearn.feature_selection import mutual_info_regression\n",
    "def make_mi_scores(X, y):\n",
    "    mi_scores = mutual_info_regression(X, y)\n",
    "    mi_scores = pd.Series(mi_scores, name=\"MI Scores\", index=X.columns)\n",
    "    mi_scores = mi_scores.sort_values(ascending=False)\n",
    "    return mi_scores"
   ]
  },
  {
   "cell_type": "code",
   "execution_count": 27,
   "metadata": {},
   "outputs": [],
   "source": [
    "btc_xgboost = pd.read_pickle('./btc_lgbm.pkl')"
   ]
  },
  {
   "cell_type": "code",
   "execution_count": 31,
   "metadata": {},
   "outputs": [],
   "source": [
    "from sklearn.preprocessing import StandardScaler"
   ]
  },
  {
   "cell_type": "code",
   "execution_count": 38,
   "metadata": {},
   "outputs": [
    {
     "data": {
      "text/plain": [
       "(525592,)"
      ]
     },
     "execution_count": 38,
     "metadata": {},
     "output_type": "execute_result"
    }
   ],
   "source": [
    "real_targets.shape"
   ]
  },
  {
   "cell_type": "code",
   "execution_count": 50,
   "metadata": {},
   "outputs": [
    {
     "name": "stdout",
     "output_type": "stream",
     "text": [
      "(525601, 8)\n",
      "(525601, 8)\n",
      "(525602, 14)\n",
      "(525592,)\n"
     ]
    }
   ],
   "source": [
    "print(X_lstm.train.shape)\n",
    "print(X_lstm.train_norm.shape)\n",
    "print(btc_xgboost.loc[last_year:].shape)\n",
    "print(real_targets.shape)"
   ]
  },
  {
   "cell_type": "code",
   "execution_count": 56,
   "metadata": {},
   "outputs": [
    {
     "data": {
      "text/plain": [
       "Timestamp('2022-02-13 08:11:00', freq='60S')"
      ]
     },
     "execution_count": 56,
     "metadata": {},
     "output_type": "execute_result"
    }
   ],
   "source": [
    "X_lstm.train.index[-1]"
   ]
  },
  {
   "cell_type": "code",
   "execution_count": 58,
   "metadata": {},
   "outputs": [
    {
     "data": {
      "text/plain": [
       "Timestamp('2022-02-13 08:11:00', freq='60S')"
      ]
     },
     "execution_count": 58,
     "metadata": {},
     "output_type": "execute_result"
    }
   ],
   "source": [
    "btc_lstm.index[-1]"
   ]
  },
  {
   "cell_type": "code",
   "execution_count": 74,
   "metadata": {},
   "outputs": [],
   "source": [
    "X_xgb = btc_xgboost.loc[last_year:].iloc[:-2].iloc[4:-4].drop('log_rtrn',axis=1)\n",
    "\n",
    "\n",
    "sc = StandardScaler()\n",
    "X_new = sc.fit_transform(X_xgb)\n",
    "X_new = pd.DataFrame(X_new, columns=X_xgb.columns)"
   ]
  },
  {
   "cell_type": "code",
   "execution_count": 75,
   "metadata": {},
   "outputs": [],
   "source": [
    "scores = make_mi_scores(X_new, new_targets.reshape(-1))"
   ]
  },
  {
   "cell_type": "code",
   "execution_count": 78,
   "metadata": {},
   "outputs": [
    {
     "data": {
      "text/plain": [
       "close            0.557079\n",
       "average_price    0.554633\n",
       "high             0.552487\n",
       "low              0.551919\n",
       "open             0.547930\n",
       "log_rtrn_1m      0.137719\n",
       "vol_15m          0.065122\n",
       "vol_2h           0.060001\n",
       "vol_gs           0.059091\n",
       "volume           0.053250\n",
       "vol_rs           0.037451\n",
       "up_shdw          0.012842\n",
       "dwn_shdw         0.011785\n",
       "Name: MI Scores, dtype: float64"
      ]
     },
     "execution_count": 78,
     "metadata": {},
     "output_type": "execute_result"
    }
   ],
   "source": [
    "scores"
   ]
  },
  {
   "cell_type": "code",
   "execution_count": 121,
   "metadata": {},
   "outputs": [],
   "source": [
    "pipeline = Pipeline(steps=[('scaling', StandardScaler()), ('xgboost', XGBRegressor())])\n",
    "\n",
    "n_splits = 10\n",
    "cv_split = BlockTSSplit2(n_splits=n_splits)"
   ]
  },
  {
   "cell_type": "code",
   "execution_count": 185,
   "metadata": {},
   "outputs": [],
   "source": [
    "cs = cross_val_score(pipeline, X_xgb, new_targets, cv=cv_split, scoring='neg_mean_absolute_error')"
   ]
  },
  {
   "cell_type": "code",
   "execution_count": 186,
   "metadata": {},
   "outputs": [
    {
     "data": {
      "text/plain": [
       "0.006349979499672448"
      ]
     },
     "execution_count": 186,
     "metadata": {},
     "output_type": "execute_result"
    }
   ],
   "source": [
    "np.mean(cs*-1)"
   ]
  },
  {
   "cell_type": "code",
   "execution_count": 120,
   "metadata": {},
   "outputs": [],
   "source": [
    "from abc import abstractmethod\n",
    "\n",
    "class BlockTSSplit2():\n",
    "    def __init__(self, n_splits, val_prop=0.2):\n",
    "        self.n_splits = n_splits\n",
    "        self.val_prop = val_prop\n",
    "\n",
    "    def split(self, df,y=None, groups=None):\n",
    "        n_samples = len(df)\n",
    "        k_fold_size = n_samples // self.n_splits\n",
    "        indices = np.arange(n_samples)\n",
    "\n",
    "        margin = 0\n",
    "        for i in range(self.n_splits):\n",
    "            start = i * k_fold_size\n",
    "            stop = start + k_fold_size\n",
    "            mid = int((1 - self.val_prop) * (stop - start)) + start\n",
    "            yield indices[start: mid], indices[mid + margin: stop]\n",
    "    \n",
    "    \n",
    "    def get_n_splits(self, X=None, y=None, groups=None):\n",
    "        return self.n_splits"
   ]
  },
  {
   "cell_type": "code",
   "execution_count": 124,
   "metadata": {},
   "outputs": [],
   "source": [
    "param_grid = {\n",
    "    'xgboost__eta' : [0.1, 0.3, 0.6],\n",
    "    'xgboost__max_depth' : [3, 6, 10],\n",
    "    'xgboost__lambda' : [1, 2, 10],\n",
    "    'xgboost__n_estimators' : [100, 500, 1000],\n",
    "}"
   ]
  },
  {
   "cell_type": "code",
   "execution_count": 102,
   "metadata": {},
   "outputs": [],
   "source": [
    "from sklearn.model_selection import GridSearchCV"
   ]
  },
  {
   "cell_type": "code",
   "execution_count": 127,
   "metadata": {},
   "outputs": [],
   "source": [
    "grid_search = GridSearchCV(pipeline, param_grid, scoring='neg_mean_absolute_error', cv=cv_split,verbose=2)"
   ]
  },
  {
   "cell_type": "code",
   "execution_count": 128,
   "metadata": {},
   "outputs": [
    {
     "name": "stdout",
     "output_type": "stream",
     "text": [
      "Fitting 10 folds for each of 81 candidates, totalling 810 fits\n",
      "[CV] END xgboost__eta=0.1, xgboost__lambda=1, xgboost__max_depth=3, xgboost__n_estimators=100; total time=   2.3s\n",
      "[CV] END xgboost__eta=0.1, xgboost__lambda=1, xgboost__max_depth=3, xgboost__n_estimators=100; total time=   2.2s\n",
      "[CV] END xgboost__eta=0.1, xgboost__lambda=1, xgboost__max_depth=3, xgboost__n_estimators=100; total time=   2.3s\n",
      "[CV] END xgboost__eta=0.1, xgboost__lambda=1, xgboost__max_depth=3, xgboost__n_estimators=100; total time=   2.3s\n",
      "[CV] END xgboost__eta=0.1, xgboost__lambda=1, xgboost__max_depth=3, xgboost__n_estimators=100; total time=   2.2s\n",
      "[CV] END xgboost__eta=0.1, xgboost__lambda=1, xgboost__max_depth=3, xgboost__n_estimators=100; total time=   2.1s\n",
      "[CV] END xgboost__eta=0.1, xgboost__lambda=1, xgboost__max_depth=3, xgboost__n_estimators=100; total time=   2.3s\n",
      "[CV] END xgboost__eta=0.1, xgboost__lambda=1, xgboost__max_depth=3, xgboost__n_estimators=100; total time=   2.5s\n",
      "[CV] END xgboost__eta=0.1, xgboost__lambda=1, xgboost__max_depth=3, xgboost__n_estimators=100; total time=   2.3s\n",
      "[CV] END xgboost__eta=0.1, xgboost__lambda=1, xgboost__max_depth=3, xgboost__n_estimators=100; total time=   2.2s\n",
      "[CV] END xgboost__eta=0.1, xgboost__lambda=1, xgboost__max_depth=3, xgboost__n_estimators=500; total time=  11.7s\n",
      "[CV] END xgboost__eta=0.1, xgboost__lambda=1, xgboost__max_depth=3, xgboost__n_estimators=500; total time=  11.1s\n",
      "[CV] END xgboost__eta=0.1, xgboost__lambda=1, xgboost__max_depth=3, xgboost__n_estimators=500; total time=  12.0s\n",
      "[CV] END xgboost__eta=0.1, xgboost__lambda=1, xgboost__max_depth=3, xgboost__n_estimators=500; total time=  11.1s\n",
      "[CV] END xgboost__eta=0.1, xgboost__lambda=1, xgboost__max_depth=3, xgboost__n_estimators=500; total time=  11.1s\n",
      "[CV] END xgboost__eta=0.1, xgboost__lambda=1, xgboost__max_depth=3, xgboost__n_estimators=500; total time=  11.3s\n",
      "[CV] END xgboost__eta=0.1, xgboost__lambda=1, xgboost__max_depth=3, xgboost__n_estimators=500; total time=  11.2s\n",
      "[CV] END xgboost__eta=0.1, xgboost__lambda=1, xgboost__max_depth=3, xgboost__n_estimators=500; total time=  11.2s\n",
      "[CV] END xgboost__eta=0.1, xgboost__lambda=1, xgboost__max_depth=3, xgboost__n_estimators=500; total time=  10.9s\n",
      "[CV] END xgboost__eta=0.1, xgboost__lambda=1, xgboost__max_depth=3, xgboost__n_estimators=500; total time=  10.8s\n",
      "[CV] END xgboost__eta=0.1, xgboost__lambda=1, xgboost__max_depth=3, xgboost__n_estimators=1000; total time=  22.8s\n",
      "[CV] END xgboost__eta=0.1, xgboost__lambda=1, xgboost__max_depth=3, xgboost__n_estimators=1000; total time=  22.1s\n",
      "[CV] END xgboost__eta=0.1, xgboost__lambda=1, xgboost__max_depth=3, xgboost__n_estimators=1000; total time=  23.6s\n",
      "[CV] END xgboost__eta=0.1, xgboost__lambda=1, xgboost__max_depth=3, xgboost__n_estimators=1000; total time=  24.4s\n",
      "[CV] END xgboost__eta=0.1, xgboost__lambda=1, xgboost__max_depth=3, xgboost__n_estimators=1000; total time=  22.2s\n",
      "[CV] END xgboost__eta=0.1, xgboost__lambda=1, xgboost__max_depth=3, xgboost__n_estimators=1000; total time=  21.8s\n",
      "[CV] END xgboost__eta=0.1, xgboost__lambda=1, xgboost__max_depth=3, xgboost__n_estimators=1000; total time=  22.5s\n",
      "[CV] END xgboost__eta=0.1, xgboost__lambda=1, xgboost__max_depth=3, xgboost__n_estimators=1000; total time=  22.6s\n",
      "[CV] END xgboost__eta=0.1, xgboost__lambda=1, xgboost__max_depth=3, xgboost__n_estimators=1000; total time=  23.2s\n",
      "[CV] END xgboost__eta=0.1, xgboost__lambda=1, xgboost__max_depth=3, xgboost__n_estimators=1000; total time=  23.0s\n",
      "[CV] END xgboost__eta=0.1, xgboost__lambda=1, xgboost__max_depth=6, xgboost__n_estimators=100; total time=   4.6s\n",
      "[CV] END xgboost__eta=0.1, xgboost__lambda=1, xgboost__max_depth=6, xgboost__n_estimators=100; total time=   4.5s\n",
      "[CV] END xgboost__eta=0.1, xgboost__lambda=1, xgboost__max_depth=6, xgboost__n_estimators=100; total time=   4.8s\n",
      "[CV] END xgboost__eta=0.1, xgboost__lambda=1, xgboost__max_depth=6, xgboost__n_estimators=100; total time=   4.5s\n",
      "[CV] END xgboost__eta=0.1, xgboost__lambda=1, xgboost__max_depth=6, xgboost__n_estimators=100; total time=   4.3s\n",
      "[CV] END xgboost__eta=0.1, xgboost__lambda=1, xgboost__max_depth=6, xgboost__n_estimators=100; total time=   4.9s\n",
      "[CV] END xgboost__eta=0.1, xgboost__lambda=1, xgboost__max_depth=6, xgboost__n_estimators=100; total time=   4.5s\n",
      "[CV] END xgboost__eta=0.1, xgboost__lambda=1, xgboost__max_depth=6, xgboost__n_estimators=100; total time=   4.5s\n",
      "[CV] END xgboost__eta=0.1, xgboost__lambda=1, xgboost__max_depth=6, xgboost__n_estimators=100; total time=   4.2s\n",
      "[CV] END xgboost__eta=0.1, xgboost__lambda=1, xgboost__max_depth=6, xgboost__n_estimators=100; total time=   4.2s\n",
      "[CV] END xgboost__eta=0.1, xgboost__lambda=1, xgboost__max_depth=6, xgboost__n_estimators=500; total time=  23.1s\n",
      "[CV] END xgboost__eta=0.1, xgboost__lambda=1, xgboost__max_depth=6, xgboost__n_estimators=500; total time=  23.5s\n",
      "[CV] END xgboost__eta=0.1, xgboost__lambda=1, xgboost__max_depth=6, xgboost__n_estimators=500; total time=  24.2s\n",
      "[CV] END xgboost__eta=0.1, xgboost__lambda=1, xgboost__max_depth=6, xgboost__n_estimators=500; total time=  24.2s\n",
      "[CV] END xgboost__eta=0.1, xgboost__lambda=1, xgboost__max_depth=6, xgboost__n_estimators=500; total time=  23.3s\n",
      "[CV] END xgboost__eta=0.1, xgboost__lambda=1, xgboost__max_depth=6, xgboost__n_estimators=500; total time=  22.0s\n",
      "[CV] END xgboost__eta=0.1, xgboost__lambda=1, xgboost__max_depth=6, xgboost__n_estimators=500; total time=  23.6s\n",
      "[CV] END xgboost__eta=0.1, xgboost__lambda=1, xgboost__max_depth=6, xgboost__n_estimators=500; total time=  23.2s\n",
      "[CV] END xgboost__eta=0.1, xgboost__lambda=1, xgboost__max_depth=6, xgboost__n_estimators=500; total time=  22.3s\n",
      "[CV] END xgboost__eta=0.1, xgboost__lambda=1, xgboost__max_depth=6, xgboost__n_estimators=500; total time=  23.1s\n",
      "[CV] END xgboost__eta=0.1, xgboost__lambda=1, xgboost__max_depth=6, xgboost__n_estimators=1000; total time=  46.8s\n",
      "[CV] END xgboost__eta=0.1, xgboost__lambda=1, xgboost__max_depth=6, xgboost__n_estimators=1000; total time=  47.2s\n",
      "[CV] END xgboost__eta=0.1, xgboost__lambda=1, xgboost__max_depth=6, xgboost__n_estimators=1000; total time=  48.9s\n",
      "[CV] END xgboost__eta=0.1, xgboost__lambda=1, xgboost__max_depth=6, xgboost__n_estimators=1000; total time=  47.9s\n",
      "[CV] END xgboost__eta=0.1, xgboost__lambda=1, xgboost__max_depth=6, xgboost__n_estimators=1000; total time=  45.6s\n",
      "[CV] END xgboost__eta=0.1, xgboost__lambda=1, xgboost__max_depth=6, xgboost__n_estimators=1000; total time=  45.1s\n",
      "[CV] END xgboost__eta=0.1, xgboost__lambda=1, xgboost__max_depth=6, xgboost__n_estimators=1000; total time=  47.5s\n",
      "[CV] END xgboost__eta=0.1, xgboost__lambda=1, xgboost__max_depth=6, xgboost__n_estimators=1000; total time=  47.1s\n",
      "[CV] END xgboost__eta=0.1, xgboost__lambda=1, xgboost__max_depth=6, xgboost__n_estimators=1000; total time=  45.6s\n",
      "[CV] END xgboost__eta=0.1, xgboost__lambda=1, xgboost__max_depth=6, xgboost__n_estimators=1000; total time=  44.8s\n",
      "[CV] END xgboost__eta=0.1, xgboost__lambda=1, xgboost__max_depth=10, xgboost__n_estimators=100; total time=   8.1s\n",
      "[CV] END xgboost__eta=0.1, xgboost__lambda=1, xgboost__max_depth=10, xgboost__n_estimators=100; total time=   7.7s\n",
      "[CV] END xgboost__eta=0.1, xgboost__lambda=1, xgboost__max_depth=10, xgboost__n_estimators=100; total time=   7.8s\n",
      "[CV] END xgboost__eta=0.1, xgboost__lambda=1, xgboost__max_depth=10, xgboost__n_estimators=100; total time=   7.0s\n",
      "[CV] END xgboost__eta=0.1, xgboost__lambda=1, xgboost__max_depth=10, xgboost__n_estimators=100; total time=   6.9s\n",
      "[CV] END xgboost__eta=0.1, xgboost__lambda=1, xgboost__max_depth=10, xgboost__n_estimators=100; total time=   6.6s\n",
      "[CV] END xgboost__eta=0.1, xgboost__lambda=1, xgboost__max_depth=10, xgboost__n_estimators=100; total time=   7.3s\n",
      "[CV] END xgboost__eta=0.1, xgboost__lambda=1, xgboost__max_depth=10, xgboost__n_estimators=100; total time=   7.0s\n",
      "[CV] END xgboost__eta=0.1, xgboost__lambda=1, xgboost__max_depth=10, xgboost__n_estimators=100; total time=   7.2s\n",
      "[CV] END xgboost__eta=0.1, xgboost__lambda=1, xgboost__max_depth=10, xgboost__n_estimators=100; total time=   6.8s\n",
      "[CV] END xgboost__eta=0.1, xgboost__lambda=1, xgboost__max_depth=10, xgboost__n_estimators=500; total time=  40.2s\n",
      "[CV] END xgboost__eta=0.1, xgboost__lambda=1, xgboost__max_depth=10, xgboost__n_estimators=500; total time=  40.2s\n"
     ]
    },
    {
     "name": "stdout",
     "output_type": "stream",
     "text": [
      "[CV] END xgboost__eta=0.1, xgboost__lambda=1, xgboost__max_depth=10, xgboost__n_estimators=500; total time=  42.7s\n",
      "[CV] END xgboost__eta=0.1, xgboost__lambda=1, xgboost__max_depth=10, xgboost__n_estimators=500; total time=  39.7s\n",
      "[CV] END xgboost__eta=0.1, xgboost__lambda=1, xgboost__max_depth=10, xgboost__n_estimators=500; total time=  38.9s\n",
      "[CV] END xgboost__eta=0.1, xgboost__lambda=1, xgboost__max_depth=10, xgboost__n_estimators=500; total time=  39.0s\n",
      "[CV] END xgboost__eta=0.1, xgboost__lambda=1, xgboost__max_depth=10, xgboost__n_estimators=500; total time=  39.9s\n",
      "[CV] END xgboost__eta=0.1, xgboost__lambda=1, xgboost__max_depth=10, xgboost__n_estimators=500; total time=  40.2s\n",
      "[CV] END xgboost__eta=0.1, xgboost__lambda=1, xgboost__max_depth=10, xgboost__n_estimators=500; total time=  39.0s\n",
      "[CV] END xgboost__eta=0.1, xgboost__lambda=1, xgboost__max_depth=10, xgboost__n_estimators=500; total time=  39.1s\n",
      "[CV] END xgboost__eta=0.1, xgboost__lambda=1, xgboost__max_depth=10, xgboost__n_estimators=1000; total time= 1.4min\n",
      "[CV] END xgboost__eta=0.1, xgboost__lambda=1, xgboost__max_depth=10, xgboost__n_estimators=1000; total time= 1.2min\n",
      "[CV] END xgboost__eta=0.1, xgboost__lambda=1, xgboost__max_depth=10, xgboost__n_estimators=1000; total time= 1.4min\n",
      "[CV] END xgboost__eta=0.1, xgboost__lambda=1, xgboost__max_depth=10, xgboost__n_estimators=1000; total time= 1.2min\n",
      "[CV] END xgboost__eta=0.1, xgboost__lambda=1, xgboost__max_depth=10, xgboost__n_estimators=1000; total time=  47.4s\n",
      "[CV] END xgboost__eta=0.1, xgboost__lambda=1, xgboost__max_depth=10, xgboost__n_estimators=1000; total time=  54.5s\n",
      "[CV] END xgboost__eta=0.1, xgboost__lambda=1, xgboost__max_depth=10, xgboost__n_estimators=1000; total time= 1.1min\n",
      "[CV] END xgboost__eta=0.1, xgboost__lambda=1, xgboost__max_depth=10, xgboost__n_estimators=1000; total time= 1.2min\n",
      "[CV] END xgboost__eta=0.1, xgboost__lambda=1, xgboost__max_depth=10, xgboost__n_estimators=1000; total time= 1.1min\n",
      "[CV] END xgboost__eta=0.1, xgboost__lambda=1, xgboost__max_depth=10, xgboost__n_estimators=1000; total time=  52.1s\n",
      "[CV] END xgboost__eta=0.1, xgboost__lambda=2, xgboost__max_depth=3, xgboost__n_estimators=100; total time=   2.3s\n",
      "[CV] END xgboost__eta=0.1, xgboost__lambda=2, xgboost__max_depth=3, xgboost__n_estimators=100; total time=   2.8s\n",
      "[CV] END xgboost__eta=0.1, xgboost__lambda=2, xgboost__max_depth=3, xgboost__n_estimators=100; total time=   2.5s\n",
      "[CV] END xgboost__eta=0.1, xgboost__lambda=2, xgboost__max_depth=3, xgboost__n_estimators=100; total time=   2.3s\n",
      "[CV] END xgboost__eta=0.1, xgboost__lambda=2, xgboost__max_depth=3, xgboost__n_estimators=100; total time=   2.2s\n",
      "[CV] END xgboost__eta=0.1, xgboost__lambda=2, xgboost__max_depth=3, xgboost__n_estimators=100; total time=   2.1s\n",
      "[CV] END xgboost__eta=0.1, xgboost__lambda=2, xgboost__max_depth=3, xgboost__n_estimators=100; total time=   2.3s\n",
      "[CV] END xgboost__eta=0.1, xgboost__lambda=2, xgboost__max_depth=3, xgboost__n_estimators=100; total time=   2.3s\n",
      "[CV] END xgboost__eta=0.1, xgboost__lambda=2, xgboost__max_depth=3, xgboost__n_estimators=100; total time=   2.2s\n",
      "[CV] END xgboost__eta=0.1, xgboost__lambda=2, xgboost__max_depth=3, xgboost__n_estimators=100; total time=   2.2s\n",
      "[CV] END xgboost__eta=0.1, xgboost__lambda=2, xgboost__max_depth=3, xgboost__n_estimators=500; total time=  11.2s\n",
      "[CV] END xgboost__eta=0.1, xgboost__lambda=2, xgboost__max_depth=3, xgboost__n_estimators=500; total time=  11.0s\n",
      "[CV] END xgboost__eta=0.1, xgboost__lambda=2, xgboost__max_depth=3, xgboost__n_estimators=500; total time=  12.0s\n",
      "[CV] END xgboost__eta=0.1, xgboost__lambda=2, xgboost__max_depth=3, xgboost__n_estimators=500; total time=  11.8s\n",
      "[CV] END xgboost__eta=0.1, xgboost__lambda=2, xgboost__max_depth=3, xgboost__n_estimators=500; total time=  11.0s\n",
      "[CV] END xgboost__eta=0.1, xgboost__lambda=2, xgboost__max_depth=3, xgboost__n_estimators=500; total time=  10.6s\n",
      "[CV] END xgboost__eta=0.1, xgboost__lambda=2, xgboost__max_depth=3, xgboost__n_estimators=500; total time=  11.1s\n",
      "[CV] END xgboost__eta=0.1, xgboost__lambda=2, xgboost__max_depth=3, xgboost__n_estimators=500; total time=  11.2s\n",
      "[CV] END xgboost__eta=0.1, xgboost__lambda=2, xgboost__max_depth=3, xgboost__n_estimators=500; total time=  10.7s\n",
      "[CV] END xgboost__eta=0.1, xgboost__lambda=2, xgboost__max_depth=3, xgboost__n_estimators=500; total time=  11.4s\n",
      "[CV] END xgboost__eta=0.1, xgboost__lambda=2, xgboost__max_depth=3, xgboost__n_estimators=1000; total time=  22.3s\n",
      "[CV] END xgboost__eta=0.1, xgboost__lambda=2, xgboost__max_depth=3, xgboost__n_estimators=1000; total time=  22.2s\n",
      "[CV] END xgboost__eta=0.1, xgboost__lambda=2, xgboost__max_depth=3, xgboost__n_estimators=1000; total time=  24.4s\n",
      "[CV] END xgboost__eta=0.1, xgboost__lambda=2, xgboost__max_depth=3, xgboost__n_estimators=1000; total time=  22.2s\n",
      "[CV] END xgboost__eta=0.1, xgboost__lambda=2, xgboost__max_depth=3, xgboost__n_estimators=1000; total time=  22.4s\n",
      "[CV] END xgboost__eta=0.1, xgboost__lambda=2, xgboost__max_depth=3, xgboost__n_estimators=1000; total time=  21.8s\n",
      "[CV] END xgboost__eta=0.1, xgboost__lambda=2, xgboost__max_depth=3, xgboost__n_estimators=1000; total time=  22.1s\n",
      "[CV] END xgboost__eta=0.1, xgboost__lambda=2, xgboost__max_depth=3, xgboost__n_estimators=1000; total time=  22.5s\n",
      "[CV] END xgboost__eta=0.1, xgboost__lambda=2, xgboost__max_depth=3, xgboost__n_estimators=1000; total time=  21.2s\n",
      "[CV] END xgboost__eta=0.1, xgboost__lambda=2, xgboost__max_depth=3, xgboost__n_estimators=1000; total time=  21.7s\n",
      "[CV] END xgboost__eta=0.1, xgboost__lambda=2, xgboost__max_depth=6, xgboost__n_estimators=100; total time=   4.3s\n",
      "[CV] END xgboost__eta=0.1, xgboost__lambda=2, xgboost__max_depth=6, xgboost__n_estimators=100; total time=   5.3s\n",
      "[CV] END xgboost__eta=0.1, xgboost__lambda=2, xgboost__max_depth=6, xgboost__n_estimators=100; total time=   4.5s\n",
      "[CV] END xgboost__eta=0.1, xgboost__lambda=2, xgboost__max_depth=6, xgboost__n_estimators=100; total time=   4.3s\n",
      "[CV] END xgboost__eta=0.1, xgboost__lambda=2, xgboost__max_depth=6, xgboost__n_estimators=100; total time=   4.2s\n",
      "[CV] END xgboost__eta=0.1, xgboost__lambda=2, xgboost__max_depth=6, xgboost__n_estimators=100; total time=   4.0s\n",
      "[CV] END xgboost__eta=0.1, xgboost__lambda=2, xgboost__max_depth=6, xgboost__n_estimators=100; total time=   4.3s\n",
      "[CV] END xgboost__eta=0.1, xgboost__lambda=2, xgboost__max_depth=6, xgboost__n_estimators=100; total time=   4.2s\n",
      "[CV] END xgboost__eta=0.1, xgboost__lambda=2, xgboost__max_depth=6, xgboost__n_estimators=100; total time=   4.1s\n",
      "[CV] END xgboost__eta=0.1, xgboost__lambda=2, xgboost__max_depth=6, xgboost__n_estimators=100; total time=   4.0s\n",
      "[CV] END xgboost__eta=0.1, xgboost__lambda=2, xgboost__max_depth=6, xgboost__n_estimators=500; total time=  23.1s\n",
      "[CV] END xgboost__eta=0.1, xgboost__lambda=2, xgboost__max_depth=6, xgboost__n_estimators=500; total time=  22.9s\n",
      "[CV] END xgboost__eta=0.1, xgboost__lambda=2, xgboost__max_depth=6, xgboost__n_estimators=500; total time=  25.1s\n",
      "[CV] END xgboost__eta=0.1, xgboost__lambda=2, xgboost__max_depth=6, xgboost__n_estimators=500; total time=  23.4s\n",
      "[CV] END xgboost__eta=0.1, xgboost__lambda=2, xgboost__max_depth=6, xgboost__n_estimators=500; total time=  22.6s\n",
      "[CV] END xgboost__eta=0.1, xgboost__lambda=2, xgboost__max_depth=6, xgboost__n_estimators=500; total time=  21.9s\n",
      "[CV] END xgboost__eta=0.1, xgboost__lambda=2, xgboost__max_depth=6, xgboost__n_estimators=500; total time=  23.6s\n",
      "[CV] END xgboost__eta=0.1, xgboost__lambda=2, xgboost__max_depth=6, xgboost__n_estimators=500; total time=  24.3s\n",
      "[CV] END xgboost__eta=0.1, xgboost__lambda=2, xgboost__max_depth=6, xgboost__n_estimators=500; total time=  22.9s\n",
      "[CV] END xgboost__eta=0.1, xgboost__lambda=2, xgboost__max_depth=6, xgboost__n_estimators=500; total time=  21.9s\n",
      "[CV] END xgboost__eta=0.1, xgboost__lambda=2, xgboost__max_depth=6, xgboost__n_estimators=1000; total time=  46.7s\n",
      "[CV] END xgboost__eta=0.1, xgboost__lambda=2, xgboost__max_depth=6, xgboost__n_estimators=1000; total time=  45.8s\n",
      "[CV] END xgboost__eta=0.1, xgboost__lambda=2, xgboost__max_depth=6, xgboost__n_estimators=1000; total time=  48.1s\n",
      "[CV] END xgboost__eta=0.1, xgboost__lambda=2, xgboost__max_depth=6, xgboost__n_estimators=1000; total time=  46.0s\n"
     ]
    },
    {
     "name": "stdout",
     "output_type": "stream",
     "text": [
      "[CV] END xgboost__eta=0.1, xgboost__lambda=2, xgboost__max_depth=6, xgboost__n_estimators=1000; total time=  45.2s\n",
      "[CV] END xgboost__eta=0.1, xgboost__lambda=2, xgboost__max_depth=6, xgboost__n_estimators=1000; total time=  44.7s\n",
      "[CV] END xgboost__eta=0.1, xgboost__lambda=2, xgboost__max_depth=6, xgboost__n_estimators=1000; total time=  45.6s\n",
      "[CV] END xgboost__eta=0.1, xgboost__lambda=2, xgboost__max_depth=6, xgboost__n_estimators=1000; total time=  45.9s\n",
      "[CV] END xgboost__eta=0.1, xgboost__lambda=2, xgboost__max_depth=6, xgboost__n_estimators=1000; total time=  44.6s\n",
      "[CV] END xgboost__eta=0.1, xgboost__lambda=2, xgboost__max_depth=6, xgboost__n_estimators=1000; total time=  44.9s\n",
      "[CV] END xgboost__eta=0.1, xgboost__lambda=2, xgboost__max_depth=10, xgboost__n_estimators=100; total time=   7.3s\n",
      "[CV] END xgboost__eta=0.1, xgboost__lambda=2, xgboost__max_depth=10, xgboost__n_estimators=100; total time=   6.9s\n",
      "[CV] END xgboost__eta=0.1, xgboost__lambda=2, xgboost__max_depth=10, xgboost__n_estimators=100; total time=   7.4s\n",
      "[CV] END xgboost__eta=0.1, xgboost__lambda=2, xgboost__max_depth=10, xgboost__n_estimators=100; total time=   6.8s\n",
      "[CV] END xgboost__eta=0.1, xgboost__lambda=2, xgboost__max_depth=10, xgboost__n_estimators=100; total time=   7.1s\n",
      "[CV] END xgboost__eta=0.1, xgboost__lambda=2, xgboost__max_depth=10, xgboost__n_estimators=100; total time=   6.4s\n",
      "[CV] END xgboost__eta=0.1, xgboost__lambda=2, xgboost__max_depth=10, xgboost__n_estimators=100; total time=   7.2s\n",
      "[CV] END xgboost__eta=0.1, xgboost__lambda=2, xgboost__max_depth=10, xgboost__n_estimators=100; total time=   7.4s\n",
      "[CV] END xgboost__eta=0.1, xgboost__lambda=2, xgboost__max_depth=10, xgboost__n_estimators=100; total time=   6.5s\n",
      "[CV] END xgboost__eta=0.1, xgboost__lambda=2, xgboost__max_depth=10, xgboost__n_estimators=100; total time=   6.4s\n",
      "[CV] END xgboost__eta=0.1, xgboost__lambda=2, xgboost__max_depth=10, xgboost__n_estimators=500; total time=  39.6s\n",
      "[CV] END xgboost__eta=0.1, xgboost__lambda=2, xgboost__max_depth=10, xgboost__n_estimators=500; total time=  39.8s\n",
      "[CV] END xgboost__eta=0.1, xgboost__lambda=2, xgboost__max_depth=10, xgboost__n_estimators=500; total time=  41.6s\n",
      "[CV] END xgboost__eta=0.1, xgboost__lambda=2, xgboost__max_depth=10, xgboost__n_estimators=500; total time=  38.9s\n",
      "[CV] END xgboost__eta=0.1, xgboost__lambda=2, xgboost__max_depth=10, xgboost__n_estimators=500; total time=  38.6s\n",
      "[CV] END xgboost__eta=0.1, xgboost__lambda=2, xgboost__max_depth=10, xgboost__n_estimators=500; total time=  37.8s\n",
      "[CV] END xgboost__eta=0.1, xgboost__lambda=2, xgboost__max_depth=10, xgboost__n_estimators=500; total time=  39.1s\n",
      "[CV] END xgboost__eta=0.1, xgboost__lambda=2, xgboost__max_depth=10, xgboost__n_estimators=500; total time=  39.4s\n",
      "[CV] END xgboost__eta=0.1, xgboost__lambda=2, xgboost__max_depth=10, xgboost__n_estimators=500; total time=  38.4s\n",
      "[CV] END xgboost__eta=0.1, xgboost__lambda=2, xgboost__max_depth=10, xgboost__n_estimators=500; total time=  37.6s\n",
      "[CV] END xgboost__eta=0.1, xgboost__lambda=2, xgboost__max_depth=10, xgboost__n_estimators=1000; total time= 1.4min\n",
      "[CV] END xgboost__eta=0.1, xgboost__lambda=2, xgboost__max_depth=10, xgboost__n_estimators=1000; total time= 1.3min\n",
      "[CV] END xgboost__eta=0.1, xgboost__lambda=2, xgboost__max_depth=10, xgboost__n_estimators=1000; total time= 1.4min\n",
      "[CV] END xgboost__eta=0.1, xgboost__lambda=2, xgboost__max_depth=10, xgboost__n_estimators=1000; total time= 1.2min\n",
      "[CV] END xgboost__eta=0.1, xgboost__lambda=2, xgboost__max_depth=10, xgboost__n_estimators=1000; total time=  48.1s\n",
      "[CV] END xgboost__eta=0.1, xgboost__lambda=2, xgboost__max_depth=10, xgboost__n_estimators=1000; total time= 1.0min\n",
      "[CV] END xgboost__eta=0.1, xgboost__lambda=2, xgboost__max_depth=10, xgboost__n_estimators=1000; total time= 1.2min\n",
      "[CV] END xgboost__eta=0.1, xgboost__lambda=2, xgboost__max_depth=10, xgboost__n_estimators=1000; total time= 1.2min\n",
      "[CV] END xgboost__eta=0.1, xgboost__lambda=2, xgboost__max_depth=10, xgboost__n_estimators=1000; total time= 1.1min\n",
      "[CV] END xgboost__eta=0.1, xgboost__lambda=2, xgboost__max_depth=10, xgboost__n_estimators=1000; total time=  55.3s\n",
      "[CV] END xgboost__eta=0.1, xgboost__lambda=10, xgboost__max_depth=3, xgboost__n_estimators=100; total time=   2.3s\n",
      "[CV] END xgboost__eta=0.1, xgboost__lambda=10, xgboost__max_depth=3, xgboost__n_estimators=100; total time=   2.1s\n",
      "[CV] END xgboost__eta=0.1, xgboost__lambda=10, xgboost__max_depth=3, xgboost__n_estimators=100; total time=   2.3s\n",
      "[CV] END xgboost__eta=0.1, xgboost__lambda=10, xgboost__max_depth=3, xgboost__n_estimators=100; total time=   2.2s\n",
      "[CV] END xgboost__eta=0.1, xgboost__lambda=10, xgboost__max_depth=3, xgboost__n_estimators=100; total time=   2.3s\n",
      "[CV] END xgboost__eta=0.1, xgboost__lambda=10, xgboost__max_depth=3, xgboost__n_estimators=100; total time=   2.0s\n",
      "[CV] END xgboost__eta=0.1, xgboost__lambda=10, xgboost__max_depth=3, xgboost__n_estimators=100; total time=   2.2s\n",
      "[CV] END xgboost__eta=0.1, xgboost__lambda=10, xgboost__max_depth=3, xgboost__n_estimators=100; total time=   2.3s\n",
      "[CV] END xgboost__eta=0.1, xgboost__lambda=10, xgboost__max_depth=3, xgboost__n_estimators=100; total time=   2.1s\n",
      "[CV] END xgboost__eta=0.1, xgboost__lambda=10, xgboost__max_depth=3, xgboost__n_estimators=100; total time=   2.0s\n",
      "[CV] END xgboost__eta=0.1, xgboost__lambda=10, xgboost__max_depth=3, xgboost__n_estimators=500; total time=  11.4s\n",
      "[CV] END xgboost__eta=0.1, xgboost__lambda=10, xgboost__max_depth=3, xgboost__n_estimators=500; total time=  11.4s\n",
      "[CV] END xgboost__eta=0.1, xgboost__lambda=10, xgboost__max_depth=3, xgboost__n_estimators=500; total time=  12.1s\n",
      "[CV] END xgboost__eta=0.1, xgboost__lambda=10, xgboost__max_depth=3, xgboost__n_estimators=500; total time=  11.3s\n",
      "[CV] END xgboost__eta=0.1, xgboost__lambda=10, xgboost__max_depth=3, xgboost__n_estimators=500; total time=  11.0s\n",
      "[CV] END xgboost__eta=0.1, xgboost__lambda=10, xgboost__max_depth=3, xgboost__n_estimators=500; total time=  10.4s\n",
      "[CV] END xgboost__eta=0.1, xgboost__lambda=10, xgboost__max_depth=3, xgboost__n_estimators=500; total time=  11.0s\n",
      "[CV] END xgboost__eta=0.1, xgboost__lambda=10, xgboost__max_depth=3, xgboost__n_estimators=500; total time=  11.8s\n",
      "[CV] END xgboost__eta=0.1, xgboost__lambda=10, xgboost__max_depth=3, xgboost__n_estimators=500; total time=  10.6s\n",
      "[CV] END xgboost__eta=0.1, xgboost__lambda=10, xgboost__max_depth=3, xgboost__n_estimators=500; total time=  10.6s\n",
      "[CV] END xgboost__eta=0.1, xgboost__lambda=10, xgboost__max_depth=3, xgboost__n_estimators=1000; total time=  22.4s\n",
      "[CV] END xgboost__eta=0.1, xgboost__lambda=10, xgboost__max_depth=3, xgboost__n_estimators=1000; total time=  23.1s\n",
      "[CV] END xgboost__eta=0.1, xgboost__lambda=10, xgboost__max_depth=3, xgboost__n_estimators=1000; total time=  23.4s\n",
      "[CV] END xgboost__eta=0.1, xgboost__lambda=10, xgboost__max_depth=3, xgboost__n_estimators=1000; total time=  22.9s\n",
      "[CV] END xgboost__eta=0.1, xgboost__lambda=10, xgboost__max_depth=3, xgboost__n_estimators=1000; total time=  21.6s\n",
      "[CV] END xgboost__eta=0.1, xgboost__lambda=10, xgboost__max_depth=3, xgboost__n_estimators=1000; total time=  21.1s\n",
      "[CV] END xgboost__eta=0.1, xgboost__lambda=10, xgboost__max_depth=3, xgboost__n_estimators=1000; total time=  22.7s\n",
      "[CV] END xgboost__eta=0.1, xgboost__lambda=10, xgboost__max_depth=3, xgboost__n_estimators=1000; total time=  22.4s\n",
      "[CV] END xgboost__eta=0.1, xgboost__lambda=10, xgboost__max_depth=3, xgboost__n_estimators=1000; total time=  21.3s\n",
      "[CV] END xgboost__eta=0.1, xgboost__lambda=10, xgboost__max_depth=3, xgboost__n_estimators=1000; total time=  22.4s\n",
      "[CV] END xgboost__eta=0.1, xgboost__lambda=10, xgboost__max_depth=6, xgboost__n_estimators=100; total time=   4.2s\n",
      "[CV] END xgboost__eta=0.1, xgboost__lambda=10, xgboost__max_depth=6, xgboost__n_estimators=100; total time=   3.9s\n",
      "[CV] END xgboost__eta=0.1, xgboost__lambda=10, xgboost__max_depth=6, xgboost__n_estimators=100; total time=   4.2s\n",
      "[CV] END xgboost__eta=0.1, xgboost__lambda=10, xgboost__max_depth=6, xgboost__n_estimators=100; total time=   4.0s\n",
      "[CV] END xgboost__eta=0.1, xgboost__lambda=10, xgboost__max_depth=6, xgboost__n_estimators=100; total time=   4.0s\n",
      "[CV] END xgboost__eta=0.1, xgboost__lambda=10, xgboost__max_depth=6, xgboost__n_estimators=100; total time=   3.7s\n"
     ]
    },
    {
     "name": "stdout",
     "output_type": "stream",
     "text": [
      "[CV] END xgboost__eta=0.1, xgboost__lambda=10, xgboost__max_depth=6, xgboost__n_estimators=100; total time=   4.1s\n",
      "[CV] END xgboost__eta=0.1, xgboost__lambda=10, xgboost__max_depth=6, xgboost__n_estimators=100; total time=   4.2s\n",
      "[CV] END xgboost__eta=0.1, xgboost__lambda=10, xgboost__max_depth=6, xgboost__n_estimators=100; total time=   3.8s\n",
      "[CV] END xgboost__eta=0.1, xgboost__lambda=10, xgboost__max_depth=6, xgboost__n_estimators=100; total time=   3.7s\n",
      "[CV] END xgboost__eta=0.1, xgboost__lambda=10, xgboost__max_depth=6, xgboost__n_estimators=500; total time=  23.3s\n",
      "[CV] END xgboost__eta=0.1, xgboost__lambda=10, xgboost__max_depth=6, xgboost__n_estimators=500; total time=  22.4s\n",
      "[CV] END xgboost__eta=0.1, xgboost__lambda=10, xgboost__max_depth=6, xgboost__n_estimators=500; total time=  24.2s\n",
      "[CV] END xgboost__eta=0.1, xgboost__lambda=10, xgboost__max_depth=6, xgboost__n_estimators=500; total time=  22.7s\n",
      "[CV] END xgboost__eta=0.1, xgboost__lambda=10, xgboost__max_depth=6, xgboost__n_estimators=500; total time=  22.1s\n",
      "[CV] END xgboost__eta=0.1, xgboost__lambda=10, xgboost__max_depth=6, xgboost__n_estimators=500; total time=  21.9s\n",
      "[CV] END xgboost__eta=0.1, xgboost__lambda=10, xgboost__max_depth=6, xgboost__n_estimators=500; total time=  22.2s\n",
      "[CV] END xgboost__eta=0.1, xgboost__lambda=10, xgboost__max_depth=6, xgboost__n_estimators=500; total time=  22.1s\n",
      "[CV] END xgboost__eta=0.1, xgboost__lambda=10, xgboost__max_depth=6, xgboost__n_estimators=500; total time=  21.7s\n",
      "[CV] END xgboost__eta=0.1, xgboost__lambda=10, xgboost__max_depth=6, xgboost__n_estimators=500; total time=  21.7s\n",
      "[CV] END xgboost__eta=0.1, xgboost__lambda=10, xgboost__max_depth=6, xgboost__n_estimators=1000; total time= 1.1min\n",
      "[CV] END xgboost__eta=0.1, xgboost__lambda=10, xgboost__max_depth=6, xgboost__n_estimators=1000; total time=  56.6s\n",
      "[CV] END xgboost__eta=0.1, xgboost__lambda=10, xgboost__max_depth=6, xgboost__n_estimators=1000; total time=  50.0s\n",
      "[CV] END xgboost__eta=0.1, xgboost__lambda=10, xgboost__max_depth=6, xgboost__n_estimators=1000; total time=  48.9s\n",
      "[CV] END xgboost__eta=0.1, xgboost__lambda=10, xgboost__max_depth=6, xgboost__n_estimators=1000; total time=  45.5s\n",
      "[CV] END xgboost__eta=0.1, xgboost__lambda=10, xgboost__max_depth=6, xgboost__n_estimators=1000; total time=  44.1s\n",
      "[CV] END xgboost__eta=0.1, xgboost__lambda=10, xgboost__max_depth=6, xgboost__n_estimators=1000; total time=  47.5s\n",
      "[CV] END xgboost__eta=0.1, xgboost__lambda=10, xgboost__max_depth=6, xgboost__n_estimators=1000; total time=  46.7s\n",
      "[CV] END xgboost__eta=0.1, xgboost__lambda=10, xgboost__max_depth=6, xgboost__n_estimators=1000; total time=  45.4s\n",
      "[CV] END xgboost__eta=0.1, xgboost__lambda=10, xgboost__max_depth=6, xgboost__n_estimators=1000; total time=  54.3s\n",
      "[CV] END xgboost__eta=0.1, xgboost__lambda=10, xgboost__max_depth=10, xgboost__n_estimators=100; total time=   7.4s\n",
      "[CV] END xgboost__eta=0.1, xgboost__lambda=10, xgboost__max_depth=10, xgboost__n_estimators=100; total time=   7.0s\n",
      "[CV] END xgboost__eta=0.1, xgboost__lambda=10, xgboost__max_depth=10, xgboost__n_estimators=100; total time=   7.1s\n",
      "[CV] END xgboost__eta=0.1, xgboost__lambda=10, xgboost__max_depth=10, xgboost__n_estimators=100; total time=   6.9s\n",
      "[CV] END xgboost__eta=0.1, xgboost__lambda=10, xgboost__max_depth=10, xgboost__n_estimators=100; total time=   6.3s\n",
      "[CV] END xgboost__eta=0.1, xgboost__lambda=10, xgboost__max_depth=10, xgboost__n_estimators=100; total time=   5.7s\n",
      "[CV] END xgboost__eta=0.1, xgboost__lambda=10, xgboost__max_depth=10, xgboost__n_estimators=100; total time=   7.1s\n",
      "[CV] END xgboost__eta=0.1, xgboost__lambda=10, xgboost__max_depth=10, xgboost__n_estimators=100; total time=   6.7s\n",
      "[CV] END xgboost__eta=0.1, xgboost__lambda=10, xgboost__max_depth=10, xgboost__n_estimators=100; total time=   6.7s\n",
      "[CV] END xgboost__eta=0.1, xgboost__lambda=10, xgboost__max_depth=10, xgboost__n_estimators=100; total time=   6.6s\n",
      "[CV] END xgboost__eta=0.1, xgboost__lambda=10, xgboost__max_depth=10, xgboost__n_estimators=500; total time=  39.8s\n",
      "[CV] END xgboost__eta=0.1, xgboost__lambda=10, xgboost__max_depth=10, xgboost__n_estimators=500; total time=  39.6s\n",
      "[CV] END xgboost__eta=0.1, xgboost__lambda=10, xgboost__max_depth=10, xgboost__n_estimators=500; total time=  41.6s\n",
      "[CV] END xgboost__eta=0.1, xgboost__lambda=10, xgboost__max_depth=10, xgboost__n_estimators=500; total time=  46.8s\n",
      "[CV] END xgboost__eta=0.1, xgboost__lambda=10, xgboost__max_depth=10, xgboost__n_estimators=500; total time=  42.2s\n",
      "[CV] END xgboost__eta=0.1, xgboost__lambda=10, xgboost__max_depth=10, xgboost__n_estimators=500; total time=  37.8s\n",
      "[CV] END xgboost__eta=0.1, xgboost__lambda=10, xgboost__max_depth=10, xgboost__n_estimators=500; total time=  39.3s\n",
      "[CV] END xgboost__eta=0.1, xgboost__lambda=10, xgboost__max_depth=10, xgboost__n_estimators=500; total time=  47.8s\n",
      "[CV] END xgboost__eta=0.1, xgboost__lambda=10, xgboost__max_depth=10, xgboost__n_estimators=500; total time=  50.6s\n",
      "[CV] END xgboost__eta=0.1, xgboost__lambda=10, xgboost__max_depth=10, xgboost__n_estimators=500; total time=  39.0s\n",
      "[CV] END xgboost__eta=0.1, xgboost__lambda=10, xgboost__max_depth=10, xgboost__n_estimators=1000; total time= 1.4min\n",
      "[CV] END xgboost__eta=0.1, xgboost__lambda=10, xgboost__max_depth=10, xgboost__n_estimators=1000; total time= 1.3min\n",
      "[CV] END xgboost__eta=0.1, xgboost__lambda=10, xgboost__max_depth=10, xgboost__n_estimators=1000; total time= 1.4min\n",
      "[CV] END xgboost__eta=0.1, xgboost__lambda=10, xgboost__max_depth=10, xgboost__n_estimators=1000; total time= 1.4min\n",
      "[CV] END xgboost__eta=0.1, xgboost__lambda=10, xgboost__max_depth=10, xgboost__n_estimators=1000; total time= 1.4min\n",
      "[CV] END xgboost__eta=0.1, xgboost__lambda=10, xgboost__max_depth=10, xgboost__n_estimators=1000; total time= 1.7min\n",
      "[CV] END xgboost__eta=0.1, xgboost__lambda=10, xgboost__max_depth=10, xgboost__n_estimators=1000; total time= 1.4min\n",
      "[CV] END xgboost__eta=0.1, xgboost__lambda=10, xgboost__max_depth=10, xgboost__n_estimators=1000; total time= 1.3min\n",
      "[CV] END xgboost__eta=0.1, xgboost__lambda=10, xgboost__max_depth=10, xgboost__n_estimators=1000; total time= 1.3min\n",
      "[CV] END xgboost__eta=0.1, xgboost__lambda=10, xgboost__max_depth=10, xgboost__n_estimators=1000; total time= 1.4min\n",
      "[CV] END xgboost__eta=0.3, xgboost__lambda=1, xgboost__max_depth=3, xgboost__n_estimators=100; total time=   3.0s\n",
      "[CV] END xgboost__eta=0.3, xgboost__lambda=1, xgboost__max_depth=3, xgboost__n_estimators=100; total time=   3.3s\n",
      "[CV] END xgboost__eta=0.3, xgboost__lambda=1, xgboost__max_depth=3, xgboost__n_estimators=100; total time=   3.9s\n",
      "[CV] END xgboost__eta=0.3, xgboost__lambda=1, xgboost__max_depth=3, xgboost__n_estimators=100; total time=   2.5s\n",
      "[CV] END xgboost__eta=0.3, xgboost__lambda=1, xgboost__max_depth=3, xgboost__n_estimators=100; total time=   2.4s\n",
      "[CV] END xgboost__eta=0.3, xgboost__lambda=1, xgboost__max_depth=3, xgboost__n_estimators=100; total time=   2.3s\n",
      "[CV] END xgboost__eta=0.3, xgboost__lambda=1, xgboost__max_depth=3, xgboost__n_estimators=100; total time=   2.4s\n",
      "[CV] END xgboost__eta=0.3, xgboost__lambda=1, xgboost__max_depth=3, xgboost__n_estimators=100; total time=   2.5s\n",
      "[CV] END xgboost__eta=0.3, xgboost__lambda=1, xgboost__max_depth=3, xgboost__n_estimators=100; total time=   2.4s\n",
      "[CV] END xgboost__eta=0.3, xgboost__lambda=1, xgboost__max_depth=3, xgboost__n_estimators=100; total time=   2.3s\n",
      "[CV] END xgboost__eta=0.3, xgboost__lambda=1, xgboost__max_depth=3, xgboost__n_estimators=500; total time=  11.6s\n",
      "[CV] END xgboost__eta=0.3, xgboost__lambda=1, xgboost__max_depth=3, xgboost__n_estimators=500; total time=  12.0s\n",
      "[CV] END xgboost__eta=0.3, xgboost__lambda=1, xgboost__max_depth=3, xgboost__n_estimators=500; total time=  12.3s\n",
      "[CV] END xgboost__eta=0.3, xgboost__lambda=1, xgboost__max_depth=3, xgboost__n_estimators=500; total time=  12.3s\n",
      "[CV] END xgboost__eta=0.3, xgboost__lambda=1, xgboost__max_depth=3, xgboost__n_estimators=500; total time=  11.3s\n",
      "[CV] END xgboost__eta=0.3, xgboost__lambda=1, xgboost__max_depth=3, xgboost__n_estimators=500; total time=  11.2s\n",
      "[CV] END xgboost__eta=0.3, xgboost__lambda=1, xgboost__max_depth=3, xgboost__n_estimators=500; total time=  12.2s\n"
     ]
    },
    {
     "name": "stdout",
     "output_type": "stream",
     "text": [
      "[CV] END xgboost__eta=0.3, xgboost__lambda=1, xgboost__max_depth=3, xgboost__n_estimators=500; total time=  11.8s\n",
      "[CV] END xgboost__eta=0.3, xgboost__lambda=1, xgboost__max_depth=3, xgboost__n_estimators=500; total time=  11.3s\n",
      "[CV] END xgboost__eta=0.3, xgboost__lambda=1, xgboost__max_depth=3, xgboost__n_estimators=500; total time=  11.1s\n",
      "[CV] END xgboost__eta=0.3, xgboost__lambda=1, xgboost__max_depth=3, xgboost__n_estimators=1000; total time=  24.0s\n",
      "[CV] END xgboost__eta=0.3, xgboost__lambda=1, xgboost__max_depth=3, xgboost__n_estimators=1000; total time=  24.1s\n",
      "[CV] END xgboost__eta=0.3, xgboost__lambda=1, xgboost__max_depth=3, xgboost__n_estimators=1000; total time=  24.1s\n",
      "[CV] END xgboost__eta=0.3, xgboost__lambda=1, xgboost__max_depth=3, xgboost__n_estimators=1000; total time=  24.5s\n",
      "[CV] END xgboost__eta=0.3, xgboost__lambda=1, xgboost__max_depth=3, xgboost__n_estimators=1000; total time=  24.3s\n",
      "[CV] END xgboost__eta=0.3, xgboost__lambda=1, xgboost__max_depth=3, xgboost__n_estimators=1000; total time=  22.7s\n",
      "[CV] END xgboost__eta=0.3, xgboost__lambda=1, xgboost__max_depth=3, xgboost__n_estimators=1000; total time=  23.9s\n",
      "[CV] END xgboost__eta=0.3, xgboost__lambda=1, xgboost__max_depth=3, xgboost__n_estimators=1000; total time=  22.9s\n",
      "[CV] END xgboost__eta=0.3, xgboost__lambda=1, xgboost__max_depth=3, xgboost__n_estimators=1000; total time=  22.8s\n",
      "[CV] END xgboost__eta=0.3, xgboost__lambda=1, xgboost__max_depth=3, xgboost__n_estimators=1000; total time=  22.2s\n",
      "[CV] END xgboost__eta=0.3, xgboost__lambda=1, xgboost__max_depth=6, xgboost__n_estimators=100; total time=   4.7s\n",
      "[CV] END xgboost__eta=0.3, xgboost__lambda=1, xgboost__max_depth=6, xgboost__n_estimators=100; total time=   4.6s\n",
      "[CV] END xgboost__eta=0.3, xgboost__lambda=1, xgboost__max_depth=6, xgboost__n_estimators=100; total time=   5.0s\n",
      "[CV] END xgboost__eta=0.3, xgboost__lambda=1, xgboost__max_depth=6, xgboost__n_estimators=100; total time=   4.7s\n",
      "[CV] END xgboost__eta=0.3, xgboost__lambda=1, xgboost__max_depth=6, xgboost__n_estimators=100; total time=   5.0s\n",
      "[CV] END xgboost__eta=0.3, xgboost__lambda=1, xgboost__max_depth=6, xgboost__n_estimators=100; total time=   4.5s\n",
      "[CV] END xgboost__eta=0.3, xgboost__lambda=1, xgboost__max_depth=6, xgboost__n_estimators=100; total time=   4.8s\n",
      "[CV] END xgboost__eta=0.3, xgboost__lambda=1, xgboost__max_depth=6, xgboost__n_estimators=100; total time=   4.9s\n",
      "[CV] END xgboost__eta=0.3, xgboost__lambda=1, xgboost__max_depth=6, xgboost__n_estimators=100; total time=   4.5s\n",
      "[CV] END xgboost__eta=0.3, xgboost__lambda=1, xgboost__max_depth=6, xgboost__n_estimators=100; total time=   4.6s\n",
      "[CV] END xgboost__eta=0.3, xgboost__lambda=1, xgboost__max_depth=6, xgboost__n_estimators=500; total time=  25.6s\n",
      "[CV] END xgboost__eta=0.3, xgboost__lambda=1, xgboost__max_depth=6, xgboost__n_estimators=500; total time=  29.0s\n",
      "[CV] END xgboost__eta=0.3, xgboost__lambda=1, xgboost__max_depth=6, xgboost__n_estimators=500; total time=  30.5s\n",
      "[CV] END xgboost__eta=0.3, xgboost__lambda=1, xgboost__max_depth=6, xgboost__n_estimators=500; total time=  25.0s\n",
      "[CV] END xgboost__eta=0.3, xgboost__lambda=1, xgboost__max_depth=6, xgboost__n_estimators=500; total time=  23.4s\n",
      "[CV] END xgboost__eta=0.3, xgboost__lambda=1, xgboost__max_depth=6, xgboost__n_estimators=500; total time=  25.8s\n",
      "[CV] END xgboost__eta=0.3, xgboost__lambda=1, xgboost__max_depth=6, xgboost__n_estimators=500; total time=  24.4s\n",
      "[CV] END xgboost__eta=0.3, xgboost__lambda=1, xgboost__max_depth=6, xgboost__n_estimators=500; total time=  27.5s\n",
      "[CV] END xgboost__eta=0.3, xgboost__lambda=1, xgboost__max_depth=6, xgboost__n_estimators=500; total time=  23.8s\n",
      "[CV] END xgboost__eta=0.3, xgboost__lambda=1, xgboost__max_depth=6, xgboost__n_estimators=500; total time=  23.0s\n",
      "[CV] END xgboost__eta=0.3, xgboost__lambda=1, xgboost__max_depth=6, xgboost__n_estimators=1000; total time=  48.7s\n",
      "[CV] END xgboost__eta=0.3, xgboost__lambda=1, xgboost__max_depth=6, xgboost__n_estimators=1000; total time=  48.2s\n",
      "[CV] END xgboost__eta=0.3, xgboost__lambda=1, xgboost__max_depth=6, xgboost__n_estimators=1000; total time=  50.4s\n",
      "[CV] END xgboost__eta=0.3, xgboost__lambda=1, xgboost__max_depth=6, xgboost__n_estimators=1000; total time=  47.7s\n",
      "[CV] END xgboost__eta=0.3, xgboost__lambda=1, xgboost__max_depth=6, xgboost__n_estimators=1000; total time=  36.8s\n",
      "[CV] END xgboost__eta=0.3, xgboost__lambda=1, xgboost__max_depth=6, xgboost__n_estimators=1000; total time=  38.8s\n",
      "[CV] END xgboost__eta=0.3, xgboost__lambda=1, xgboost__max_depth=6, xgboost__n_estimators=1000; total time=  46.4s\n",
      "[CV] END xgboost__eta=0.3, xgboost__lambda=1, xgboost__max_depth=6, xgboost__n_estimators=1000; total time=  47.8s\n",
      "[CV] END xgboost__eta=0.3, xgboost__lambda=1, xgboost__max_depth=6, xgboost__n_estimators=1000; total time=  47.0s\n",
      "[CV] END xgboost__eta=0.3, xgboost__lambda=1, xgboost__max_depth=6, xgboost__n_estimators=1000; total time=  39.8s\n",
      "[CV] END xgboost__eta=0.3, xgboost__lambda=1, xgboost__max_depth=10, xgboost__n_estimators=100; total time=   8.3s\n",
      "[CV] END xgboost__eta=0.3, xgboost__lambda=1, xgboost__max_depth=10, xgboost__n_estimators=100; total time=   8.1s\n",
      "[CV] END xgboost__eta=0.3, xgboost__lambda=1, xgboost__max_depth=10, xgboost__n_estimators=100; total time=   8.7s\n",
      "[CV] END xgboost__eta=0.3, xgboost__lambda=1, xgboost__max_depth=10, xgboost__n_estimators=100; total time=   8.2s\n",
      "[CV] END xgboost__eta=0.3, xgboost__lambda=1, xgboost__max_depth=10, xgboost__n_estimators=100; total time=   7.8s\n",
      "[CV] END xgboost__eta=0.3, xgboost__lambda=1, xgboost__max_depth=10, xgboost__n_estimators=100; total time=   8.4s\n",
      "[CV] END xgboost__eta=0.3, xgboost__lambda=1, xgboost__max_depth=10, xgboost__n_estimators=100; total time=   8.4s\n",
      "[CV] END xgboost__eta=0.3, xgboost__lambda=1, xgboost__max_depth=10, xgboost__n_estimators=100; total time=   8.5s\n",
      "[CV] END xgboost__eta=0.3, xgboost__lambda=1, xgboost__max_depth=10, xgboost__n_estimators=100; total time=   7.9s\n",
      "[CV] END xgboost__eta=0.3, xgboost__lambda=1, xgboost__max_depth=10, xgboost__n_estimators=100; total time=   7.8s\n",
      "[CV] END xgboost__eta=0.3, xgboost__lambda=1, xgboost__max_depth=10, xgboost__n_estimators=500; total time=  37.7s\n",
      "[CV] END xgboost__eta=0.3, xgboost__lambda=1, xgboost__max_depth=10, xgboost__n_estimators=500; total time=  30.3s\n",
      "[CV] END xgboost__eta=0.3, xgboost__lambda=1, xgboost__max_depth=10, xgboost__n_estimators=500; total time=  40.4s\n",
      "[CV] END xgboost__eta=0.3, xgboost__lambda=1, xgboost__max_depth=10, xgboost__n_estimators=500; total time=  27.5s\n",
      "[CV] END xgboost__eta=0.3, xgboost__lambda=1, xgboost__max_depth=10, xgboost__n_estimators=500; total time=  22.2s\n",
      "[CV] END xgboost__eta=0.3, xgboost__lambda=1, xgboost__max_depth=10, xgboost__n_estimators=500; total time=  24.2s\n",
      "[CV] END xgboost__eta=0.3, xgboost__lambda=1, xgboost__max_depth=10, xgboost__n_estimators=500; total time=  27.9s\n",
      "[CV] END xgboost__eta=0.3, xgboost__lambda=1, xgboost__max_depth=10, xgboost__n_estimators=500; total time=  29.3s\n",
      "[CV] END xgboost__eta=0.3, xgboost__lambda=1, xgboost__max_depth=10, xgboost__n_estimators=500; total time=  25.8s\n",
      "[CV] END xgboost__eta=0.3, xgboost__lambda=1, xgboost__max_depth=10, xgboost__n_estimators=500; total time=  23.1s\n",
      "[CV] END xgboost__eta=0.3, xgboost__lambda=1, xgboost__max_depth=10, xgboost__n_estimators=1000; total time=  43.0s\n",
      "[CV] END xgboost__eta=0.3, xgboost__lambda=1, xgboost__max_depth=10, xgboost__n_estimators=1000; total time=  33.8s\n",
      "[CV] END xgboost__eta=0.3, xgboost__lambda=1, xgboost__max_depth=10, xgboost__n_estimators=1000; total time=  44.6s\n",
      "[CV] END xgboost__eta=0.3, xgboost__lambda=1, xgboost__max_depth=10, xgboost__n_estimators=1000; total time=  31.8s\n",
      "[CV] END xgboost__eta=0.3, xgboost__lambda=1, xgboost__max_depth=10, xgboost__n_estimators=1000; total time=  26.4s\n",
      "[CV] END xgboost__eta=0.3, xgboost__lambda=1, xgboost__max_depth=10, xgboost__n_estimators=1000; total time=  28.0s\n",
      "[CV] END xgboost__eta=0.3, xgboost__lambda=1, xgboost__max_depth=10, xgboost__n_estimators=1000; total time=  31.5s\n",
      "[CV] END xgboost__eta=0.3, xgboost__lambda=1, xgboost__max_depth=10, xgboost__n_estimators=1000; total time=  33.1s\n",
      "[CV] END xgboost__eta=0.3, xgboost__lambda=1, xgboost__max_depth=10, xgboost__n_estimators=1000; total time=  29.8s\n"
     ]
    },
    {
     "name": "stdout",
     "output_type": "stream",
     "text": [
      "[CV] END xgboost__eta=0.3, xgboost__lambda=1, xgboost__max_depth=10, xgboost__n_estimators=1000; total time=  26.2s\n",
      "[CV] END xgboost__eta=0.3, xgboost__lambda=2, xgboost__max_depth=3, xgboost__n_estimators=100; total time=   2.5s\n",
      "[CV] END xgboost__eta=0.3, xgboost__lambda=2, xgboost__max_depth=3, xgboost__n_estimators=100; total time=   2.3s\n",
      "[CV] END xgboost__eta=0.3, xgboost__lambda=2, xgboost__max_depth=3, xgboost__n_estimators=100; total time=   3.0s\n",
      "[CV] END xgboost__eta=0.3, xgboost__lambda=2, xgboost__max_depth=3, xgboost__n_estimators=100; total time=   2.5s\n",
      "[CV] END xgboost__eta=0.3, xgboost__lambda=2, xgboost__max_depth=3, xgboost__n_estimators=100; total time=   2.4s\n",
      "[CV] END xgboost__eta=0.3, xgboost__lambda=2, xgboost__max_depth=3, xgboost__n_estimators=100; total time=   2.2s\n",
      "[CV] END xgboost__eta=0.3, xgboost__lambda=2, xgboost__max_depth=3, xgboost__n_estimators=100; total time=   2.4s\n",
      "[CV] END xgboost__eta=0.3, xgboost__lambda=2, xgboost__max_depth=3, xgboost__n_estimators=100; total time=   2.4s\n",
      "[CV] END xgboost__eta=0.3, xgboost__lambda=2, xgboost__max_depth=3, xgboost__n_estimators=100; total time=   2.4s\n",
      "[CV] END xgboost__eta=0.3, xgboost__lambda=2, xgboost__max_depth=3, xgboost__n_estimators=100; total time=   2.5s\n",
      "[CV] END xgboost__eta=0.3, xgboost__lambda=2, xgboost__max_depth=3, xgboost__n_estimators=500; total time=  11.6s\n",
      "[CV] END xgboost__eta=0.3, xgboost__lambda=2, xgboost__max_depth=3, xgboost__n_estimators=500; total time=  11.3s\n",
      "[CV] END xgboost__eta=0.3, xgboost__lambda=2, xgboost__max_depth=3, xgboost__n_estimators=500; total time=  12.1s\n",
      "[CV] END xgboost__eta=0.3, xgboost__lambda=2, xgboost__max_depth=3, xgboost__n_estimators=500; total time=  12.0s\n",
      "[CV] END xgboost__eta=0.3, xgboost__lambda=2, xgboost__max_depth=3, xgboost__n_estimators=500; total time=  11.1s\n",
      "[CV] END xgboost__eta=0.3, xgboost__lambda=2, xgboost__max_depth=3, xgboost__n_estimators=500; total time=  11.0s\n",
      "[CV] END xgboost__eta=0.3, xgboost__lambda=2, xgboost__max_depth=3, xgboost__n_estimators=500; total time=  11.3s\n",
      "[CV] END xgboost__eta=0.3, xgboost__lambda=2, xgboost__max_depth=3, xgboost__n_estimators=500; total time=  11.3s\n",
      "[CV] END xgboost__eta=0.3, xgboost__lambda=2, xgboost__max_depth=3, xgboost__n_estimators=500; total time=  11.7s\n",
      "[CV] END xgboost__eta=0.3, xgboost__lambda=2, xgboost__max_depth=3, xgboost__n_estimators=500; total time=  11.0s\n",
      "[CV] END xgboost__eta=0.3, xgboost__lambda=2, xgboost__max_depth=3, xgboost__n_estimators=1000; total time=  23.7s\n",
      "[CV] END xgboost__eta=0.3, xgboost__lambda=2, xgboost__max_depth=3, xgboost__n_estimators=1000; total time=  22.6s\n",
      "[CV] END xgboost__eta=0.3, xgboost__lambda=2, xgboost__max_depth=3, xgboost__n_estimators=1000; total time=  24.5s\n",
      "[CV] END xgboost__eta=0.3, xgboost__lambda=2, xgboost__max_depth=3, xgboost__n_estimators=1000; total time=  23.1s\n",
      "[CV] END xgboost__eta=0.3, xgboost__lambda=2, xgboost__max_depth=3, xgboost__n_estimators=1000; total time=  22.9s\n",
      "[CV] END xgboost__eta=0.3, xgboost__lambda=2, xgboost__max_depth=3, xgboost__n_estimators=1000; total time=  22.4s\n",
      "[CV] END xgboost__eta=0.3, xgboost__lambda=2, xgboost__max_depth=3, xgboost__n_estimators=1000; total time=  22.8s\n",
      "[CV] END xgboost__eta=0.3, xgboost__lambda=2, xgboost__max_depth=3, xgboost__n_estimators=1000; total time=  23.2s\n",
      "[CV] END xgboost__eta=0.3, xgboost__lambda=2, xgboost__max_depth=3, xgboost__n_estimators=1000; total time=  22.0s\n",
      "[CV] END xgboost__eta=0.3, xgboost__lambda=2, xgboost__max_depth=3, xgboost__n_estimators=1000; total time=  22.6s\n",
      "[CV] END xgboost__eta=0.3, xgboost__lambda=2, xgboost__max_depth=6, xgboost__n_estimators=100; total time=   4.8s\n",
      "[CV] END xgboost__eta=0.3, xgboost__lambda=2, xgboost__max_depth=6, xgboost__n_estimators=100; total time=   4.6s\n",
      "[CV] END xgboost__eta=0.3, xgboost__lambda=2, xgboost__max_depth=6, xgboost__n_estimators=100; total time=   5.2s\n",
      "[CV] END xgboost__eta=0.3, xgboost__lambda=2, xgboost__max_depth=6, xgboost__n_estimators=100; total time=   4.8s\n",
      "[CV] END xgboost__eta=0.3, xgboost__lambda=2, xgboost__max_depth=6, xgboost__n_estimators=100; total time=   4.6s\n",
      "[CV] END xgboost__eta=0.3, xgboost__lambda=2, xgboost__max_depth=6, xgboost__n_estimators=100; total time=   4.5s\n",
      "[CV] END xgboost__eta=0.3, xgboost__lambda=2, xgboost__max_depth=6, xgboost__n_estimators=100; total time=   4.7s\n",
      "[CV] END xgboost__eta=0.3, xgboost__lambda=2, xgboost__max_depth=6, xgboost__n_estimators=100; total time=   4.6s\n",
      "[CV] END xgboost__eta=0.3, xgboost__lambda=2, xgboost__max_depth=6, xgboost__n_estimators=100; total time=   4.5s\n",
      "[CV] END xgboost__eta=0.3, xgboost__lambda=2, xgboost__max_depth=6, xgboost__n_estimators=100; total time=   4.6s\n",
      "[CV] END xgboost__eta=0.3, xgboost__lambda=2, xgboost__max_depth=6, xgboost__n_estimators=500; total time=  24.8s\n",
      "[CV] END xgboost__eta=0.3, xgboost__lambda=2, xgboost__max_depth=6, xgboost__n_estimators=500; total time=  23.9s\n",
      "[CV] END xgboost__eta=0.3, xgboost__lambda=2, xgboost__max_depth=6, xgboost__n_estimators=500; total time=  25.5s\n",
      "[CV] END xgboost__eta=0.3, xgboost__lambda=2, xgboost__max_depth=6, xgboost__n_estimators=500; total time=  24.0s\n",
      "[CV] END xgboost__eta=0.3, xgboost__lambda=2, xgboost__max_depth=6, xgboost__n_estimators=500; total time=  23.2s\n",
      "[CV] END xgboost__eta=0.3, xgboost__lambda=2, xgboost__max_depth=6, xgboost__n_estimators=500; total time=  23.7s\n",
      "[CV] END xgboost__eta=0.3, xgboost__lambda=2, xgboost__max_depth=6, xgboost__n_estimators=500; total time=  24.2s\n",
      "[CV] END xgboost__eta=0.3, xgboost__lambda=2, xgboost__max_depth=6, xgboost__n_estimators=500; total time=  24.8s\n",
      "[CV] END xgboost__eta=0.3, xgboost__lambda=2, xgboost__max_depth=6, xgboost__n_estimators=500; total time=  22.9s\n",
      "[CV] END xgboost__eta=0.3, xgboost__lambda=2, xgboost__max_depth=6, xgboost__n_estimators=500; total time=  23.0s\n",
      "[CV] END xgboost__eta=0.3, xgboost__lambda=2, xgboost__max_depth=6, xgboost__n_estimators=1000; total time=  47.9s\n",
      "[CV] END xgboost__eta=0.3, xgboost__lambda=2, xgboost__max_depth=6, xgboost__n_estimators=1000; total time=  47.7s\n",
      "[CV] END xgboost__eta=0.3, xgboost__lambda=2, xgboost__max_depth=6, xgboost__n_estimators=1000; total time=  50.3s\n",
      "[CV] END xgboost__eta=0.3, xgboost__lambda=2, xgboost__max_depth=6, xgboost__n_estimators=1000; total time=  48.6s\n",
      "[CV] END xgboost__eta=0.3, xgboost__lambda=2, xgboost__max_depth=6, xgboost__n_estimators=1000; total time=  36.3s\n",
      "[CV] END xgboost__eta=0.3, xgboost__lambda=2, xgboost__max_depth=6, xgboost__n_estimators=1000; total time=  40.2s\n",
      "[CV] END xgboost__eta=0.3, xgboost__lambda=2, xgboost__max_depth=6, xgboost__n_estimators=1000; total time=  47.1s\n",
      "[CV] END xgboost__eta=0.3, xgboost__lambda=2, xgboost__max_depth=6, xgboost__n_estimators=1000; total time=  47.5s\n",
      "[CV] END xgboost__eta=0.3, xgboost__lambda=2, xgboost__max_depth=6, xgboost__n_estimators=1000; total time=  46.6s\n",
      "[CV] END xgboost__eta=0.3, xgboost__lambda=2, xgboost__max_depth=6, xgboost__n_estimators=1000; total time=  39.1s\n",
      "[CV] END xgboost__eta=0.3, xgboost__lambda=2, xgboost__max_depth=10, xgboost__n_estimators=100; total time=   8.1s\n",
      "[CV] END xgboost__eta=0.3, xgboost__lambda=2, xgboost__max_depth=10, xgboost__n_estimators=100; total time=   8.0s\n",
      "[CV] END xgboost__eta=0.3, xgboost__lambda=2, xgboost__max_depth=10, xgboost__n_estimators=100; total time=   8.4s\n",
      "[CV] END xgboost__eta=0.3, xgboost__lambda=2, xgboost__max_depth=10, xgboost__n_estimators=100; total time=   8.2s\n",
      "[CV] END xgboost__eta=0.3, xgboost__lambda=2, xgboost__max_depth=10, xgboost__n_estimators=100; total time=   8.4s\n",
      "[CV] END xgboost__eta=0.3, xgboost__lambda=2, xgboost__max_depth=10, xgboost__n_estimators=100; total time=   7.7s\n",
      "[CV] END xgboost__eta=0.3, xgboost__lambda=2, xgboost__max_depth=10, xgboost__n_estimators=100; total time=   8.4s\n",
      "[CV] END xgboost__eta=0.3, xgboost__lambda=2, xgboost__max_depth=10, xgboost__n_estimators=100; total time=   8.1s\n",
      "[CV] END xgboost__eta=0.3, xgboost__lambda=2, xgboost__max_depth=10, xgboost__n_estimators=100; total time=   7.6s\n",
      "[CV] END xgboost__eta=0.3, xgboost__lambda=2, xgboost__max_depth=10, xgboost__n_estimators=100; total time=   7.8s\n",
      "[CV] END xgboost__eta=0.3, xgboost__lambda=2, xgboost__max_depth=10, xgboost__n_estimators=500; total time=  37.3s\n"
     ]
    },
    {
     "name": "stdout",
     "output_type": "stream",
     "text": [
      "[CV] END xgboost__eta=0.3, xgboost__lambda=2, xgboost__max_depth=10, xgboost__n_estimators=500; total time=  30.3s\n",
      "[CV] END xgboost__eta=0.3, xgboost__lambda=2, xgboost__max_depth=10, xgboost__n_estimators=500; total time=  39.8s\n",
      "[CV] END xgboost__eta=0.3, xgboost__lambda=2, xgboost__max_depth=10, xgboost__n_estimators=500; total time=  29.2s\n",
      "[CV] END xgboost__eta=0.3, xgboost__lambda=2, xgboost__max_depth=10, xgboost__n_estimators=500; total time=  22.4s\n",
      "[CV] END xgboost__eta=0.3, xgboost__lambda=2, xgboost__max_depth=10, xgboost__n_estimators=500; total time=  24.9s\n",
      "[CV] END xgboost__eta=0.3, xgboost__lambda=2, xgboost__max_depth=10, xgboost__n_estimators=500; total time=  29.5s\n",
      "[CV] END xgboost__eta=0.3, xgboost__lambda=2, xgboost__max_depth=10, xgboost__n_estimators=500; total time=  32.1s\n",
      "[CV] END xgboost__eta=0.3, xgboost__lambda=2, xgboost__max_depth=10, xgboost__n_estimators=500; total time=  27.5s\n",
      "[CV] END xgboost__eta=0.3, xgboost__lambda=2, xgboost__max_depth=10, xgboost__n_estimators=500; total time=  24.5s\n",
      "[CV] END xgboost__eta=0.3, xgboost__lambda=2, xgboost__max_depth=10, xgboost__n_estimators=1000; total time=  41.4s\n",
      "[CV] END xgboost__eta=0.3, xgboost__lambda=2, xgboost__max_depth=10, xgboost__n_estimators=1000; total time=  33.9s\n",
      "[CV] END xgboost__eta=0.3, xgboost__lambda=2, xgboost__max_depth=10, xgboost__n_estimators=1000; total time=  43.8s\n",
      "[CV] END xgboost__eta=0.3, xgboost__lambda=2, xgboost__max_depth=10, xgboost__n_estimators=1000; total time=  33.5s\n",
      "[CV] END xgboost__eta=0.3, xgboost__lambda=2, xgboost__max_depth=10, xgboost__n_estimators=1000; total time=  25.2s\n",
      "[CV] END xgboost__eta=0.3, xgboost__lambda=2, xgboost__max_depth=10, xgboost__n_estimators=1000; total time=  28.1s\n",
      "[CV] END xgboost__eta=0.3, xgboost__lambda=2, xgboost__max_depth=10, xgboost__n_estimators=1000; total time=  31.2s\n",
      "[CV] END xgboost__eta=0.3, xgboost__lambda=2, xgboost__max_depth=10, xgboost__n_estimators=1000; total time=  35.8s\n",
      "[CV] END xgboost__eta=0.3, xgboost__lambda=2, xgboost__max_depth=10, xgboost__n_estimators=1000; total time=  30.5s\n",
      "[CV] END xgboost__eta=0.3, xgboost__lambda=2, xgboost__max_depth=10, xgboost__n_estimators=1000; total time=  28.4s\n",
      "[CV] END xgboost__eta=0.3, xgboost__lambda=10, xgboost__max_depth=3, xgboost__n_estimators=100; total time=   2.4s\n",
      "[CV] END xgboost__eta=0.3, xgboost__lambda=10, xgboost__max_depth=3, xgboost__n_estimators=100; total time=   2.3s\n",
      "[CV] END xgboost__eta=0.3, xgboost__lambda=10, xgboost__max_depth=3, xgboost__n_estimators=100; total time=   2.5s\n",
      "[CV] END xgboost__eta=0.3, xgboost__lambda=10, xgboost__max_depth=3, xgboost__n_estimators=100; total time=   2.4s\n",
      "[CV] END xgboost__eta=0.3, xgboost__lambda=10, xgboost__max_depth=3, xgboost__n_estimators=100; total time=   2.5s\n",
      "[CV] END xgboost__eta=0.3, xgboost__lambda=10, xgboost__max_depth=3, xgboost__n_estimators=100; total time=   2.2s\n",
      "[CV] END xgboost__eta=0.3, xgboost__lambda=10, xgboost__max_depth=3, xgboost__n_estimators=100; total time=   2.3s\n",
      "[CV] END xgboost__eta=0.3, xgboost__lambda=10, xgboost__max_depth=3, xgboost__n_estimators=100; total time=   2.4s\n",
      "[CV] END xgboost__eta=0.3, xgboost__lambda=10, xgboost__max_depth=3, xgboost__n_estimators=100; total time=   2.3s\n",
      "[CV] END xgboost__eta=0.3, xgboost__lambda=10, xgboost__max_depth=3, xgboost__n_estimators=100; total time=   2.3s\n",
      "[CV] END xgboost__eta=0.3, xgboost__lambda=10, xgboost__max_depth=3, xgboost__n_estimators=500; total time=  11.4s\n",
      "[CV] END xgboost__eta=0.3, xgboost__lambda=10, xgboost__max_depth=3, xgboost__n_estimators=500; total time=  11.4s\n",
      "[CV] END xgboost__eta=0.3, xgboost__lambda=10, xgboost__max_depth=3, xgboost__n_estimators=500; total time=  12.5s\n",
      "[CV] END xgboost__eta=0.3, xgboost__lambda=10, xgboost__max_depth=3, xgboost__n_estimators=500; total time=  11.3s\n",
      "[CV] END xgboost__eta=0.3, xgboost__lambda=10, xgboost__max_depth=3, xgboost__n_estimators=500; total time=  11.2s\n",
      "[CV] END xgboost__eta=0.3, xgboost__lambda=10, xgboost__max_depth=3, xgboost__n_estimators=500; total time=  10.8s\n",
      "[CV] END xgboost__eta=0.3, xgboost__lambda=10, xgboost__max_depth=3, xgboost__n_estimators=500; total time=  11.6s\n",
      "[CV] END xgboost__eta=0.3, xgboost__lambda=10, xgboost__max_depth=3, xgboost__n_estimators=500; total time=  11.8s\n",
      "[CV] END xgboost__eta=0.3, xgboost__lambda=10, xgboost__max_depth=3, xgboost__n_estimators=500; total time=  10.9s\n",
      "[CV] END xgboost__eta=0.3, xgboost__lambda=10, xgboost__max_depth=3, xgboost__n_estimators=500; total time=  11.2s\n",
      "[CV] END xgboost__eta=0.3, xgboost__lambda=10, xgboost__max_depth=3, xgboost__n_estimators=1000; total time=  23.1s\n",
      "[CV] END xgboost__eta=0.3, xgboost__lambda=10, xgboost__max_depth=3, xgboost__n_estimators=1000; total time=  23.0s\n",
      "[CV] END xgboost__eta=0.3, xgboost__lambda=10, xgboost__max_depth=3, xgboost__n_estimators=1000; total time=  24.3s\n",
      "[CV] END xgboost__eta=0.3, xgboost__lambda=10, xgboost__max_depth=3, xgboost__n_estimators=1000; total time=  23.4s\n",
      "[CV] END xgboost__eta=0.3, xgboost__lambda=10, xgboost__max_depth=3, xgboost__n_estimators=1000; total time=  22.6s\n",
      "[CV] END xgboost__eta=0.3, xgboost__lambda=10, xgboost__max_depth=3, xgboost__n_estimators=1000; total time=  21.8s\n",
      "[CV] END xgboost__eta=0.3, xgboost__lambda=10, xgboost__max_depth=3, xgboost__n_estimators=1000; total time=  23.1s\n",
      "[CV] END xgboost__eta=0.3, xgboost__lambda=10, xgboost__max_depth=3, xgboost__n_estimators=1000; total time=  22.7s\n",
      "[CV] END xgboost__eta=0.3, xgboost__lambda=10, xgboost__max_depth=3, xgboost__n_estimators=1000; total time=  21.8s\n",
      "[CV] END xgboost__eta=0.3, xgboost__lambda=10, xgboost__max_depth=3, xgboost__n_estimators=1000; total time=  22.3s\n",
      "[CV] END xgboost__eta=0.3, xgboost__lambda=10, xgboost__max_depth=6, xgboost__n_estimators=100; total time=   4.7s\n",
      "[CV] END xgboost__eta=0.3, xgboost__lambda=10, xgboost__max_depth=6, xgboost__n_estimators=100; total time=   4.8s\n",
      "[CV] END xgboost__eta=0.3, xgboost__lambda=10, xgboost__max_depth=6, xgboost__n_estimators=100; total time=   4.9s\n",
      "[CV] END xgboost__eta=0.3, xgboost__lambda=10, xgboost__max_depth=6, xgboost__n_estimators=100; total time=   4.6s\n",
      "[CV] END xgboost__eta=0.3, xgboost__lambda=10, xgboost__max_depth=6, xgboost__n_estimators=100; total time=   4.5s\n",
      "[CV] END xgboost__eta=0.3, xgboost__lambda=10, xgboost__max_depth=6, xgboost__n_estimators=100; total time=   4.3s\n",
      "[CV] END xgboost__eta=0.3, xgboost__lambda=10, xgboost__max_depth=6, xgboost__n_estimators=100; total time=   4.7s\n",
      "[CV] END xgboost__eta=0.3, xgboost__lambda=10, xgboost__max_depth=6, xgboost__n_estimators=100; total time=   4.5s\n",
      "[CV] END xgboost__eta=0.3, xgboost__lambda=10, xgboost__max_depth=6, xgboost__n_estimators=100; total time=   4.3s\n",
      "[CV] END xgboost__eta=0.3, xgboost__lambda=10, xgboost__max_depth=6, xgboost__n_estimators=100; total time=   5.3s\n",
      "[CV] END xgboost__eta=0.3, xgboost__lambda=10, xgboost__max_depth=6, xgboost__n_estimators=500; total time=  23.8s\n",
      "[CV] END xgboost__eta=0.3, xgboost__lambda=10, xgboost__max_depth=6, xgboost__n_estimators=500; total time=  23.1s\n",
      "[CV] END xgboost__eta=0.3, xgboost__lambda=10, xgboost__max_depth=6, xgboost__n_estimators=500; total time=  24.9s\n",
      "[CV] END xgboost__eta=0.3, xgboost__lambda=10, xgboost__max_depth=6, xgboost__n_estimators=500; total time=  23.9s\n",
      "[CV] END xgboost__eta=0.3, xgboost__lambda=10, xgboost__max_depth=6, xgboost__n_estimators=500; total time=  23.6s\n",
      "[CV] END xgboost__eta=0.3, xgboost__lambda=10, xgboost__max_depth=6, xgboost__n_estimators=500; total time=  22.8s\n",
      "[CV] END xgboost__eta=0.3, xgboost__lambda=10, xgboost__max_depth=6, xgboost__n_estimators=500; total time=  23.5s\n",
      "[CV] END xgboost__eta=0.3, xgboost__lambda=10, xgboost__max_depth=6, xgboost__n_estimators=500; total time=  23.6s\n",
      "[CV] END xgboost__eta=0.3, xgboost__lambda=10, xgboost__max_depth=6, xgboost__n_estimators=500; total time=  22.6s\n",
      "[CV] END xgboost__eta=0.3, xgboost__lambda=10, xgboost__max_depth=6, xgboost__n_estimators=500; total time=  22.8s\n",
      "[CV] END xgboost__eta=0.3, xgboost__lambda=10, xgboost__max_depth=6, xgboost__n_estimators=1000; total time=  48.0s\n",
      "[CV] END xgboost__eta=0.3, xgboost__lambda=10, xgboost__max_depth=6, xgboost__n_estimators=1000; total time=  47.2s\n",
      "[CV] END xgboost__eta=0.3, xgboost__lambda=10, xgboost__max_depth=6, xgboost__n_estimators=1000; total time=  49.5s\n"
     ]
    },
    {
     "name": "stdout",
     "output_type": "stream",
     "text": [
      "[CV] END xgboost__eta=0.3, xgboost__lambda=10, xgboost__max_depth=6, xgboost__n_estimators=1000; total time=  48.1s\n",
      "[CV] END xgboost__eta=0.3, xgboost__lambda=10, xgboost__max_depth=6, xgboost__n_estimators=1000; total time=  39.6s\n",
      "[CV] END xgboost__eta=0.3, xgboost__lambda=10, xgboost__max_depth=6, xgboost__n_estimators=1000; total time=  43.6s\n",
      "[CV] END xgboost__eta=0.3, xgboost__lambda=10, xgboost__max_depth=6, xgboost__n_estimators=1000; total time=  47.0s\n",
      "[CV] END xgboost__eta=0.3, xgboost__lambda=10, xgboost__max_depth=6, xgboost__n_estimators=1000; total time=  48.1s\n",
      "[CV] END xgboost__eta=0.3, xgboost__lambda=10, xgboost__max_depth=6, xgboost__n_estimators=1000; total time=  44.7s\n",
      "[CV] END xgboost__eta=0.3, xgboost__lambda=10, xgboost__max_depth=6, xgboost__n_estimators=1000; total time=  46.9s\n",
      "[CV] END xgboost__eta=0.3, xgboost__lambda=10, xgboost__max_depth=10, xgboost__n_estimators=100; total time=   8.0s\n",
      "[CV] END xgboost__eta=0.3, xgboost__lambda=10, xgboost__max_depth=10, xgboost__n_estimators=100; total time=   7.6s\n",
      "[CV] END xgboost__eta=0.3, xgboost__lambda=10, xgboost__max_depth=10, xgboost__n_estimators=100; total time=   8.8s\n",
      "[CV] END xgboost__eta=0.3, xgboost__lambda=10, xgboost__max_depth=10, xgboost__n_estimators=100; total time=   8.1s\n",
      "[CV] END xgboost__eta=0.3, xgboost__lambda=10, xgboost__max_depth=10, xgboost__n_estimators=100; total time=   7.8s\n",
      "[CV] END xgboost__eta=0.3, xgboost__lambda=10, xgboost__max_depth=10, xgboost__n_estimators=100; total time=   7.6s\n",
      "[CV] END xgboost__eta=0.3, xgboost__lambda=10, xgboost__max_depth=10, xgboost__n_estimators=100; total time=   8.0s\n",
      "[CV] END xgboost__eta=0.3, xgboost__lambda=10, xgboost__max_depth=10, xgboost__n_estimators=100; total time=   7.7s\n",
      "[CV] END xgboost__eta=0.3, xgboost__lambda=10, xgboost__max_depth=10, xgboost__n_estimators=100; total time=   7.3s\n",
      "[CV] END xgboost__eta=0.3, xgboost__lambda=10, xgboost__max_depth=10, xgboost__n_estimators=100; total time=   7.5s\n",
      "[CV] END xgboost__eta=0.3, xgboost__lambda=10, xgboost__max_depth=10, xgboost__n_estimators=500; total time=  41.7s\n",
      "[CV] END xgboost__eta=0.3, xgboost__lambda=10, xgboost__max_depth=10, xgboost__n_estimators=500; total time=  38.9s\n",
      "[CV] END xgboost__eta=0.3, xgboost__lambda=10, xgboost__max_depth=10, xgboost__n_estimators=500; total time=  42.6s\n",
      "[CV] END xgboost__eta=0.3, xgboost__lambda=10, xgboost__max_depth=10, xgboost__n_estimators=500; total time=  33.0s\n",
      "[CV] END xgboost__eta=0.3, xgboost__lambda=10, xgboost__max_depth=10, xgboost__n_estimators=500; total time=  25.5s\n",
      "[CV] END xgboost__eta=0.3, xgboost__lambda=10, xgboost__max_depth=10, xgboost__n_estimators=500; total time=  31.3s\n",
      "[CV] END xgboost__eta=0.3, xgboost__lambda=10, xgboost__max_depth=10, xgboost__n_estimators=500; total time=  34.9s\n",
      "[CV] END xgboost__eta=0.3, xgboost__lambda=10, xgboost__max_depth=10, xgboost__n_estimators=500; total time=  39.0s\n",
      "[CV] END xgboost__eta=0.3, xgboost__lambda=10, xgboost__max_depth=10, xgboost__n_estimators=500; total time=  36.9s\n",
      "[CV] END xgboost__eta=0.3, xgboost__lambda=10, xgboost__max_depth=10, xgboost__n_estimators=500; total time=  28.4s\n",
      "[CV] END xgboost__eta=0.3, xgboost__lambda=10, xgboost__max_depth=10, xgboost__n_estimators=1000; total time=  49.8s\n",
      "[CV] END xgboost__eta=0.3, xgboost__lambda=10, xgboost__max_depth=10, xgboost__n_estimators=1000; total time=  43.2s\n",
      "[CV] END xgboost__eta=0.3, xgboost__lambda=10, xgboost__max_depth=10, xgboost__n_estimators=1000; total time=  54.5s\n",
      "[CV] END xgboost__eta=0.3, xgboost__lambda=10, xgboost__max_depth=10, xgboost__n_estimators=1000; total time=  37.4s\n",
      "[CV] END xgboost__eta=0.3, xgboost__lambda=10, xgboost__max_depth=10, xgboost__n_estimators=1000; total time=  29.9s\n",
      "[CV] END xgboost__eta=0.3, xgboost__lambda=10, xgboost__max_depth=10, xgboost__n_estimators=1000; total time=  34.6s\n",
      "[CV] END xgboost__eta=0.3, xgboost__lambda=10, xgboost__max_depth=10, xgboost__n_estimators=1000; total time=  37.6s\n",
      "[CV] END xgboost__eta=0.3, xgboost__lambda=10, xgboost__max_depth=10, xgboost__n_estimators=1000; total time=  42.4s\n",
      "[CV] END xgboost__eta=0.3, xgboost__lambda=10, xgboost__max_depth=10, xgboost__n_estimators=1000; total time=  40.0s\n",
      "[CV] END xgboost__eta=0.3, xgboost__lambda=10, xgboost__max_depth=10, xgboost__n_estimators=1000; total time=  32.2s\n",
      "[CV] END xgboost__eta=0.6, xgboost__lambda=1, xgboost__max_depth=3, xgboost__n_estimators=100; total time=   2.4s\n",
      "[CV] END xgboost__eta=0.6, xgboost__lambda=1, xgboost__max_depth=3, xgboost__n_estimators=100; total time=   2.4s\n",
      "[CV] END xgboost__eta=0.6, xgboost__lambda=1, xgboost__max_depth=3, xgboost__n_estimators=100; total time=   2.6s\n",
      "[CV] END xgboost__eta=0.6, xgboost__lambda=1, xgboost__max_depth=3, xgboost__n_estimators=100; total time=   2.4s\n",
      "[CV] END xgboost__eta=0.6, xgboost__lambda=1, xgboost__max_depth=3, xgboost__n_estimators=100; total time=   2.3s\n",
      "[CV] END xgboost__eta=0.6, xgboost__lambda=1, xgboost__max_depth=3, xgboost__n_estimators=100; total time=   2.4s\n",
      "[CV] END xgboost__eta=0.6, xgboost__lambda=1, xgboost__max_depth=3, xgboost__n_estimators=100; total time=   2.4s\n",
      "[CV] END xgboost__eta=0.6, xgboost__lambda=1, xgboost__max_depth=3, xgboost__n_estimators=100; total time=   2.4s\n",
      "[CV] END xgboost__eta=0.6, xgboost__lambda=1, xgboost__max_depth=3, xgboost__n_estimators=100; total time=   2.3s\n",
      "[CV] END xgboost__eta=0.6, xgboost__lambda=1, xgboost__max_depth=3, xgboost__n_estimators=100; total time=   2.3s\n",
      "[CV] END xgboost__eta=0.6, xgboost__lambda=1, xgboost__max_depth=3, xgboost__n_estimators=500; total time=  12.1s\n",
      "[CV] END xgboost__eta=0.6, xgboost__lambda=1, xgboost__max_depth=3, xgboost__n_estimators=500; total time=  11.4s\n",
      "[CV] END xgboost__eta=0.6, xgboost__lambda=1, xgboost__max_depth=3, xgboost__n_estimators=500; total time=  12.0s\n",
      "[CV] END xgboost__eta=0.6, xgboost__lambda=1, xgboost__max_depth=3, xgboost__n_estimators=500; total time=  12.0s\n",
      "[CV] END xgboost__eta=0.6, xgboost__lambda=1, xgboost__max_depth=3, xgboost__n_estimators=500; total time=  11.1s\n",
      "[CV] END xgboost__eta=0.6, xgboost__lambda=1, xgboost__max_depth=3, xgboost__n_estimators=500; total time=  11.4s\n",
      "[CV] END xgboost__eta=0.6, xgboost__lambda=1, xgboost__max_depth=3, xgboost__n_estimators=500; total time=  11.7s\n",
      "[CV] END xgboost__eta=0.6, xgboost__lambda=1, xgboost__max_depth=3, xgboost__n_estimators=500; total time=  11.8s\n",
      "[CV] END xgboost__eta=0.6, xgboost__lambda=1, xgboost__max_depth=3, xgboost__n_estimators=500; total time=  11.0s\n",
      "[CV] END xgboost__eta=0.6, xgboost__lambda=1, xgboost__max_depth=3, xgboost__n_estimators=500; total time=  11.2s\n",
      "[CV] END xgboost__eta=0.6, xgboost__lambda=1, xgboost__max_depth=3, xgboost__n_estimators=1000; total time=  23.3s\n",
      "[CV] END xgboost__eta=0.6, xgboost__lambda=1, xgboost__max_depth=3, xgboost__n_estimators=1000; total time=  22.6s\n",
      "[CV] END xgboost__eta=0.6, xgboost__lambda=1, xgboost__max_depth=3, xgboost__n_estimators=1000; total time=  24.4s\n",
      "[CV] END xgboost__eta=0.6, xgboost__lambda=1, xgboost__max_depth=3, xgboost__n_estimators=1000; total time=  22.6s\n",
      "[CV] END xgboost__eta=0.6, xgboost__lambda=1, xgboost__max_depth=3, xgboost__n_estimators=1000; total time=  22.4s\n",
      "[CV] END xgboost__eta=0.6, xgboost__lambda=1, xgboost__max_depth=3, xgboost__n_estimators=1000; total time=  23.0s\n",
      "[CV] END xgboost__eta=0.6, xgboost__lambda=1, xgboost__max_depth=3, xgboost__n_estimators=1000; total time=  23.1s\n",
      "[CV] END xgboost__eta=0.6, xgboost__lambda=1, xgboost__max_depth=3, xgboost__n_estimators=1000; total time=  22.8s\n",
      "[CV] END xgboost__eta=0.6, xgboost__lambda=1, xgboost__max_depth=3, xgboost__n_estimators=1000; total time=  22.4s\n",
      "[CV] END xgboost__eta=0.6, xgboost__lambda=1, xgboost__max_depth=3, xgboost__n_estimators=1000; total time=  22.3s\n",
      "[CV] END xgboost__eta=0.6, xgboost__lambda=1, xgboost__max_depth=6, xgboost__n_estimators=100; total time=   5.3s\n",
      "[CV] END xgboost__eta=0.6, xgboost__lambda=1, xgboost__max_depth=6, xgboost__n_estimators=100; total time=   4.8s\n",
      "[CV] END xgboost__eta=0.6, xgboost__lambda=1, xgboost__max_depth=6, xgboost__n_estimators=100; total time=   5.1s\n",
      "[CV] END xgboost__eta=0.6, xgboost__lambda=1, xgboost__max_depth=6, xgboost__n_estimators=100; total time=   5.3s\n",
      "[CV] END xgboost__eta=0.6, xgboost__lambda=1, xgboost__max_depth=6, xgboost__n_estimators=100; total time=   4.9s\n"
     ]
    },
    {
     "name": "stdout",
     "output_type": "stream",
     "text": [
      "[CV] END xgboost__eta=0.6, xgboost__lambda=1, xgboost__max_depth=6, xgboost__n_estimators=100; total time=   4.7s\n",
      "[CV] END xgboost__eta=0.6, xgboost__lambda=1, xgboost__max_depth=6, xgboost__n_estimators=100; total time=   5.0s\n",
      "[CV] END xgboost__eta=0.6, xgboost__lambda=1, xgboost__max_depth=6, xgboost__n_estimators=100; total time=   4.8s\n",
      "[CV] END xgboost__eta=0.6, xgboost__lambda=1, xgboost__max_depth=6, xgboost__n_estimators=100; total time=   4.7s\n",
      "[CV] END xgboost__eta=0.6, xgboost__lambda=1, xgboost__max_depth=6, xgboost__n_estimators=100; total time=   4.7s\n",
      "[CV] END xgboost__eta=0.6, xgboost__lambda=1, xgboost__max_depth=6, xgboost__n_estimators=500; total time=  24.0s\n",
      "[CV] END xgboost__eta=0.6, xgboost__lambda=1, xgboost__max_depth=6, xgboost__n_estimators=500; total time=  24.1s\n",
      "[CV] END xgboost__eta=0.6, xgboost__lambda=1, xgboost__max_depth=6, xgboost__n_estimators=500; total time=  25.3s\n",
      "[CV] END xgboost__eta=0.6, xgboost__lambda=1, xgboost__max_depth=6, xgboost__n_estimators=500; total time=  24.2s\n",
      "[CV] END xgboost__eta=0.6, xgboost__lambda=1, xgboost__max_depth=6, xgboost__n_estimators=500; total time=  23.0s\n",
      "[CV] END xgboost__eta=0.6, xgboost__lambda=1, xgboost__max_depth=6, xgboost__n_estimators=500; total time=  22.6s\n",
      "[CV] END xgboost__eta=0.6, xgboost__lambda=1, xgboost__max_depth=6, xgboost__n_estimators=500; total time=  23.8s\n",
      "[CV] END xgboost__eta=0.6, xgboost__lambda=1, xgboost__max_depth=6, xgboost__n_estimators=500; total time=  23.8s\n",
      "[CV] END xgboost__eta=0.6, xgboost__lambda=1, xgboost__max_depth=6, xgboost__n_estimators=500; total time=  23.5s\n",
      "[CV] END xgboost__eta=0.6, xgboost__lambda=1, xgboost__max_depth=6, xgboost__n_estimators=500; total time=  23.1s\n",
      "[CV] END xgboost__eta=0.6, xgboost__lambda=1, xgboost__max_depth=6, xgboost__n_estimators=1000; total time=  48.6s\n",
      "[CV] END xgboost__eta=0.6, xgboost__lambda=1, xgboost__max_depth=6, xgboost__n_estimators=1000; total time=  39.4s\n",
      "[CV] END xgboost__eta=0.6, xgboost__lambda=1, xgboost__max_depth=6, xgboost__n_estimators=1000; total time=  49.6s\n",
      "[CV] END xgboost__eta=0.6, xgboost__lambda=1, xgboost__max_depth=6, xgboost__n_estimators=1000; total time=  39.5s\n",
      "[CV] END xgboost__eta=0.6, xgboost__lambda=1, xgboost__max_depth=6, xgboost__n_estimators=1000; total time=  28.6s\n",
      "[CV] END xgboost__eta=0.6, xgboost__lambda=1, xgboost__max_depth=6, xgboost__n_estimators=1000; total time=  32.0s\n",
      "[CV] END xgboost__eta=0.6, xgboost__lambda=1, xgboost__max_depth=6, xgboost__n_estimators=1000; total time=  36.0s\n",
      "[CV] END xgboost__eta=0.6, xgboost__lambda=1, xgboost__max_depth=6, xgboost__n_estimators=1000; total time=  39.7s\n",
      "[CV] END xgboost__eta=0.6, xgboost__lambda=1, xgboost__max_depth=6, xgboost__n_estimators=1000; total time=  36.9s\n",
      "[CV] END xgboost__eta=0.6, xgboost__lambda=1, xgboost__max_depth=6, xgboost__n_estimators=1000; total time=  31.5s\n",
      "[CV] END xgboost__eta=0.6, xgboost__lambda=1, xgboost__max_depth=10, xgboost__n_estimators=100; total time=   8.3s\n",
      "[CV] END xgboost__eta=0.6, xgboost__lambda=1, xgboost__max_depth=10, xgboost__n_estimators=100; total time=   8.8s\n",
      "[CV] END xgboost__eta=0.6, xgboost__lambda=1, xgboost__max_depth=10, xgboost__n_estimators=100; total time=   8.6s\n",
      "[CV] END xgboost__eta=0.6, xgboost__lambda=1, xgboost__max_depth=10, xgboost__n_estimators=100; total time=   8.4s\n",
      "[CV] END xgboost__eta=0.6, xgboost__lambda=1, xgboost__max_depth=10, xgboost__n_estimators=100; total time=   8.3s\n",
      "[CV] END xgboost__eta=0.6, xgboost__lambda=1, xgboost__max_depth=10, xgboost__n_estimators=100; total time=   8.0s\n",
      "[CV] END xgboost__eta=0.6, xgboost__lambda=1, xgboost__max_depth=10, xgboost__n_estimators=100; total time=   8.4s\n",
      "[CV] END xgboost__eta=0.6, xgboost__lambda=1, xgboost__max_depth=10, xgboost__n_estimators=100; total time=   8.4s\n",
      "[CV] END xgboost__eta=0.6, xgboost__lambda=1, xgboost__max_depth=10, xgboost__n_estimators=100; total time=   8.6s\n",
      "[CV] END xgboost__eta=0.6, xgboost__lambda=1, xgboost__max_depth=10, xgboost__n_estimators=100; total time=   8.0s\n",
      "[CV] END xgboost__eta=0.6, xgboost__lambda=1, xgboost__max_depth=10, xgboost__n_estimators=500; total time=  23.8s\n",
      "[CV] END xgboost__eta=0.6, xgboost__lambda=1, xgboost__max_depth=10, xgboost__n_estimators=500; total time=  20.1s\n",
      "[CV] END xgboost__eta=0.6, xgboost__lambda=1, xgboost__max_depth=10, xgboost__n_estimators=500; total time=  25.3s\n",
      "[CV] END xgboost__eta=0.6, xgboost__lambda=1, xgboost__max_depth=10, xgboost__n_estimators=500; total time=  18.2s\n",
      "[CV] END xgboost__eta=0.6, xgboost__lambda=1, xgboost__max_depth=10, xgboost__n_estimators=500; total time=  14.5s\n",
      "[CV] END xgboost__eta=0.6, xgboost__lambda=1, xgboost__max_depth=10, xgboost__n_estimators=500; total time=  17.8s\n",
      "[CV] END xgboost__eta=0.6, xgboost__lambda=1, xgboost__max_depth=10, xgboost__n_estimators=500; total time=  19.6s\n",
      "[CV] END xgboost__eta=0.6, xgboost__lambda=1, xgboost__max_depth=10, xgboost__n_estimators=500; total time=  20.7s\n",
      "[CV] END xgboost__eta=0.6, xgboost__lambda=1, xgboost__max_depth=10, xgboost__n_estimators=500; total time=  20.2s\n",
      "[CV] END xgboost__eta=0.6, xgboost__lambda=1, xgboost__max_depth=10, xgboost__n_estimators=500; total time=  17.5s\n",
      "[CV] END xgboost__eta=0.6, xgboost__lambda=1, xgboost__max_depth=10, xgboost__n_estimators=1000; total time=  28.1s\n",
      "[CV] END xgboost__eta=0.6, xgboost__lambda=1, xgboost__max_depth=10, xgboost__n_estimators=1000; total time=  24.5s\n",
      "[CV] END xgboost__eta=0.6, xgboost__lambda=1, xgboost__max_depth=10, xgboost__n_estimators=1000; total time=  29.1s\n",
      "[CV] END xgboost__eta=0.6, xgboost__lambda=1, xgboost__max_depth=10, xgboost__n_estimators=1000; total time=  22.0s\n",
      "[CV] END xgboost__eta=0.6, xgboost__lambda=1, xgboost__max_depth=10, xgboost__n_estimators=1000; total time=  18.5s\n",
      "[CV] END xgboost__eta=0.6, xgboost__lambda=1, xgboost__max_depth=10, xgboost__n_estimators=1000; total time=  20.2s\n",
      "[CV] END xgboost__eta=0.6, xgboost__lambda=1, xgboost__max_depth=10, xgboost__n_estimators=1000; total time=  23.7s\n",
      "[CV] END xgboost__eta=0.6, xgboost__lambda=1, xgboost__max_depth=10, xgboost__n_estimators=1000; total time=  23.4s\n",
      "[CV] END xgboost__eta=0.6, xgboost__lambda=1, xgboost__max_depth=10, xgboost__n_estimators=1000; total time=  22.3s\n",
      "[CV] END xgboost__eta=0.6, xgboost__lambda=1, xgboost__max_depth=10, xgboost__n_estimators=1000; total time=  20.1s\n",
      "[CV] END xgboost__eta=0.6, xgboost__lambda=2, xgboost__max_depth=3, xgboost__n_estimators=100; total time=   2.4s\n",
      "[CV] END xgboost__eta=0.6, xgboost__lambda=2, xgboost__max_depth=3, xgboost__n_estimators=100; total time=   2.3s\n",
      "[CV] END xgboost__eta=0.6, xgboost__lambda=2, xgboost__max_depth=3, xgboost__n_estimators=100; total time=   2.7s\n",
      "[CV] END xgboost__eta=0.6, xgboost__lambda=2, xgboost__max_depth=3, xgboost__n_estimators=100; total time=   2.4s\n",
      "[CV] END xgboost__eta=0.6, xgboost__lambda=2, xgboost__max_depth=3, xgboost__n_estimators=100; total time=   2.4s\n",
      "[CV] END xgboost__eta=0.6, xgboost__lambda=2, xgboost__max_depth=3, xgboost__n_estimators=100; total time=   2.3s\n",
      "[CV] END xgboost__eta=0.6, xgboost__lambda=2, xgboost__max_depth=3, xgboost__n_estimators=100; total time=   2.4s\n",
      "[CV] END xgboost__eta=0.6, xgboost__lambda=2, xgboost__max_depth=3, xgboost__n_estimators=100; total time=   2.4s\n",
      "[CV] END xgboost__eta=0.6, xgboost__lambda=2, xgboost__max_depth=3, xgboost__n_estimators=100; total time=   2.3s\n",
      "[CV] END xgboost__eta=0.6, xgboost__lambda=2, xgboost__max_depth=3, xgboost__n_estimators=100; total time=   2.4s\n",
      "[CV] END xgboost__eta=0.6, xgboost__lambda=2, xgboost__max_depth=3, xgboost__n_estimators=500; total time=  11.7s\n",
      "[CV] END xgboost__eta=0.6, xgboost__lambda=2, xgboost__max_depth=3, xgboost__n_estimators=500; total time=  12.1s\n",
      "[CV] END xgboost__eta=0.6, xgboost__lambda=2, xgboost__max_depth=3, xgboost__n_estimators=500; total time=  12.3s\n",
      "[CV] END xgboost__eta=0.6, xgboost__lambda=2, xgboost__max_depth=3, xgboost__n_estimators=500; total time=  11.9s\n",
      "[CV] END xgboost__eta=0.6, xgboost__lambda=2, xgboost__max_depth=3, xgboost__n_estimators=500; total time=  11.6s\n",
      "[CV] END xgboost__eta=0.6, xgboost__lambda=2, xgboost__max_depth=3, xgboost__n_estimators=500; total time=  11.0s\n",
      "[CV] END xgboost__eta=0.6, xgboost__lambda=2, xgboost__max_depth=3, xgboost__n_estimators=500; total time=  12.0s\n"
     ]
    },
    {
     "name": "stdout",
     "output_type": "stream",
     "text": [
      "[CV] END xgboost__eta=0.6, xgboost__lambda=2, xgboost__max_depth=3, xgboost__n_estimators=500; total time=  11.4s\n",
      "[CV] END xgboost__eta=0.6, xgboost__lambda=2, xgboost__max_depth=3, xgboost__n_estimators=500; total time=  11.3s\n",
      "[CV] END xgboost__eta=0.6, xgboost__lambda=2, xgboost__max_depth=3, xgboost__n_estimators=500; total time=  11.1s\n",
      "[CV] END xgboost__eta=0.6, xgboost__lambda=2, xgboost__max_depth=3, xgboost__n_estimators=1000; total time=  23.9s\n",
      "[CV] END xgboost__eta=0.6, xgboost__lambda=2, xgboost__max_depth=3, xgboost__n_estimators=1000; total time=  22.5s\n",
      "[CV] END xgboost__eta=0.6, xgboost__lambda=2, xgboost__max_depth=3, xgboost__n_estimators=1000; total time=  29.2s\n",
      "[CV] END xgboost__eta=0.6, xgboost__lambda=2, xgboost__max_depth=3, xgboost__n_estimators=1000; total time=  26.7s\n",
      "[CV] END xgboost__eta=0.6, xgboost__lambda=2, xgboost__max_depth=3, xgboost__n_estimators=1000; total time=  22.9s\n",
      "[CV] END xgboost__eta=0.6, xgboost__lambda=2, xgboost__max_depth=3, xgboost__n_estimators=1000; total time=  22.8s\n",
      "[CV] END xgboost__eta=0.6, xgboost__lambda=2, xgboost__max_depth=3, xgboost__n_estimators=1000; total time=  22.9s\n",
      "[CV] END xgboost__eta=0.6, xgboost__lambda=2, xgboost__max_depth=3, xgboost__n_estimators=1000; total time=  23.6s\n",
      "[CV] END xgboost__eta=0.6, xgboost__lambda=2, xgboost__max_depth=3, xgboost__n_estimators=1000; total time=  23.0s\n",
      "[CV] END xgboost__eta=0.6, xgboost__lambda=2, xgboost__max_depth=3, xgboost__n_estimators=1000; total time=  22.9s\n",
      "[CV] END xgboost__eta=0.6, xgboost__lambda=2, xgboost__max_depth=6, xgboost__n_estimators=100; total time=   5.0s\n",
      "[CV] END xgboost__eta=0.6, xgboost__lambda=2, xgboost__max_depth=6, xgboost__n_estimators=100; total time=   4.8s\n",
      "[CV] END xgboost__eta=0.6, xgboost__lambda=2, xgboost__max_depth=6, xgboost__n_estimators=100; total time=   5.0s\n",
      "[CV] END xgboost__eta=0.6, xgboost__lambda=2, xgboost__max_depth=6, xgboost__n_estimators=100; total time=   5.2s\n",
      "[CV] END xgboost__eta=0.6, xgboost__lambda=2, xgboost__max_depth=6, xgboost__n_estimators=100; total time=   4.7s\n",
      "[CV] END xgboost__eta=0.6, xgboost__lambda=2, xgboost__max_depth=6, xgboost__n_estimators=100; total time=   4.6s\n",
      "[CV] END xgboost__eta=0.6, xgboost__lambda=2, xgboost__max_depth=6, xgboost__n_estimators=100; total time=   4.8s\n",
      "[CV] END xgboost__eta=0.6, xgboost__lambda=2, xgboost__max_depth=6, xgboost__n_estimators=100; total time=   4.9s\n",
      "[CV] END xgboost__eta=0.6, xgboost__lambda=2, xgboost__max_depth=6, xgboost__n_estimators=100; total time=   4.7s\n",
      "[CV] END xgboost__eta=0.6, xgboost__lambda=2, xgboost__max_depth=6, xgboost__n_estimators=100; total time=   4.7s\n",
      "[CV] END xgboost__eta=0.6, xgboost__lambda=2, xgboost__max_depth=6, xgboost__n_estimators=500; total time=  24.0s\n",
      "[CV] END xgboost__eta=0.6, xgboost__lambda=2, xgboost__max_depth=6, xgboost__n_estimators=500; total time=  24.9s\n",
      "[CV] END xgboost__eta=0.6, xgboost__lambda=2, xgboost__max_depth=6, xgboost__n_estimators=500; total time=  25.6s\n",
      "[CV] END xgboost__eta=0.6, xgboost__lambda=2, xgboost__max_depth=6, xgboost__n_estimators=500; total time=  24.7s\n",
      "[CV] END xgboost__eta=0.6, xgboost__lambda=2, xgboost__max_depth=6, xgboost__n_estimators=500; total time=  24.0s\n",
      "[CV] END xgboost__eta=0.6, xgboost__lambda=2, xgboost__max_depth=6, xgboost__n_estimators=500; total time=  22.8s\n",
      "[CV] END xgboost__eta=0.6, xgboost__lambda=2, xgboost__max_depth=6, xgboost__n_estimators=500; total time=  24.5s\n",
      "[CV] END xgboost__eta=0.6, xgboost__lambda=2, xgboost__max_depth=6, xgboost__n_estimators=500; total time=  24.3s\n",
      "[CV] END xgboost__eta=0.6, xgboost__lambda=2, xgboost__max_depth=6, xgboost__n_estimators=500; total time=  27.0s\n",
      "[CV] END xgboost__eta=0.6, xgboost__lambda=2, xgboost__max_depth=6, xgboost__n_estimators=500; total time=  25.0s\n",
      "[CV] END xgboost__eta=0.6, xgboost__lambda=2, xgboost__max_depth=6, xgboost__n_estimators=1000; total time=  49.2s\n",
      "[CV] END xgboost__eta=0.6, xgboost__lambda=2, xgboost__max_depth=6, xgboost__n_estimators=1000; total time=  40.0s\n",
      "[CV] END xgboost__eta=0.6, xgboost__lambda=2, xgboost__max_depth=6, xgboost__n_estimators=1000; total time=  49.2s\n",
      "[CV] END xgboost__eta=0.6, xgboost__lambda=2, xgboost__max_depth=6, xgboost__n_estimators=1000; total time=  39.0s\n",
      "[CV] END xgboost__eta=0.6, xgboost__lambda=2, xgboost__max_depth=6, xgboost__n_estimators=1000; total time=  28.1s\n",
      "[CV] END xgboost__eta=0.6, xgboost__lambda=2, xgboost__max_depth=6, xgboost__n_estimators=1000; total time=  30.8s\n",
      "[CV] END xgboost__eta=0.6, xgboost__lambda=2, xgboost__max_depth=6, xgboost__n_estimators=1000; total time=  39.4s\n",
      "[CV] END xgboost__eta=0.6, xgboost__lambda=2, xgboost__max_depth=6, xgboost__n_estimators=1000; total time=  40.9s\n",
      "[CV] END xgboost__eta=0.6, xgboost__lambda=2, xgboost__max_depth=6, xgboost__n_estimators=1000; total time=  34.1s\n",
      "[CV] END xgboost__eta=0.6, xgboost__lambda=2, xgboost__max_depth=6, xgboost__n_estimators=1000; total time=  28.8s\n",
      "[CV] END xgboost__eta=0.6, xgboost__lambda=2, xgboost__max_depth=10, xgboost__n_estimators=100; total time=   8.9s\n",
      "[CV] END xgboost__eta=0.6, xgboost__lambda=2, xgboost__max_depth=10, xgboost__n_estimators=100; total time=   8.2s\n",
      "[CV] END xgboost__eta=0.6, xgboost__lambda=2, xgboost__max_depth=10, xgboost__n_estimators=100; total time=   8.9s\n",
      "[CV] END xgboost__eta=0.6, xgboost__lambda=2, xgboost__max_depth=10, xgboost__n_estimators=100; total time=   8.4s\n",
      "[CV] END xgboost__eta=0.6, xgboost__lambda=2, xgboost__max_depth=10, xgboost__n_estimators=100; total time=   8.1s\n",
      "[CV] END xgboost__eta=0.6, xgboost__lambda=2, xgboost__max_depth=10, xgboost__n_estimators=100; total time=   8.1s\n",
      "[CV] END xgboost__eta=0.6, xgboost__lambda=2, xgboost__max_depth=10, xgboost__n_estimators=100; total time=   8.5s\n",
      "[CV] END xgboost__eta=0.6, xgboost__lambda=2, xgboost__max_depth=10, xgboost__n_estimators=100; total time=   9.6s\n",
      "[CV] END xgboost__eta=0.6, xgboost__lambda=2, xgboost__max_depth=10, xgboost__n_estimators=100; total time=   8.1s\n",
      "[CV] END xgboost__eta=0.6, xgboost__lambda=2, xgboost__max_depth=10, xgboost__n_estimators=100; total time=   8.1s\n",
      "[CV] END xgboost__eta=0.6, xgboost__lambda=2, xgboost__max_depth=10, xgboost__n_estimators=500; total time=  25.0s\n",
      "[CV] END xgboost__eta=0.6, xgboost__lambda=2, xgboost__max_depth=10, xgboost__n_estimators=500; total time=  21.4s\n",
      "[CV] END xgboost__eta=0.6, xgboost__lambda=2, xgboost__max_depth=10, xgboost__n_estimators=500; total time=  24.5s\n",
      "[CV] END xgboost__eta=0.6, xgboost__lambda=2, xgboost__max_depth=10, xgboost__n_estimators=500; total time=  19.2s\n",
      "[CV] END xgboost__eta=0.6, xgboost__lambda=2, xgboost__max_depth=10, xgboost__n_estimators=500; total time=  14.9s\n",
      "[CV] END xgboost__eta=0.6, xgboost__lambda=2, xgboost__max_depth=10, xgboost__n_estimators=500; total time=  16.3s\n",
      "[CV] END xgboost__eta=0.6, xgboost__lambda=2, xgboost__max_depth=10, xgboost__n_estimators=500; total time=  19.3s\n",
      "[CV] END xgboost__eta=0.6, xgboost__lambda=2, xgboost__max_depth=10, xgboost__n_estimators=500; total time=  20.5s\n",
      "[CV] END xgboost__eta=0.6, xgboost__lambda=2, xgboost__max_depth=10, xgboost__n_estimators=500; total time=  18.6s\n",
      "[CV] END xgboost__eta=0.6, xgboost__lambda=2, xgboost__max_depth=10, xgboost__n_estimators=500; total time=  16.7s\n",
      "[CV] END xgboost__eta=0.6, xgboost__lambda=2, xgboost__max_depth=10, xgboost__n_estimators=1000; total time=  29.1s\n",
      "[CV] END xgboost__eta=0.6, xgboost__lambda=2, xgboost__max_depth=10, xgboost__n_estimators=1000; total time=  24.7s\n",
      "[CV] END xgboost__eta=0.6, xgboost__lambda=2, xgboost__max_depth=10, xgboost__n_estimators=1000; total time=  32.5s\n",
      "[CV] END xgboost__eta=0.6, xgboost__lambda=2, xgboost__max_depth=10, xgboost__n_estimators=1000; total time=  22.8s\n",
      "[CV] END xgboost__eta=0.6, xgboost__lambda=2, xgboost__max_depth=10, xgboost__n_estimators=1000; total time=  18.6s\n",
      "[CV] END xgboost__eta=0.6, xgboost__lambda=2, xgboost__max_depth=10, xgboost__n_estimators=1000; total time=  20.2s\n",
      "[CV] END xgboost__eta=0.6, xgboost__lambda=2, xgboost__max_depth=10, xgboost__n_estimators=1000; total time=  22.5s\n",
      "[CV] END xgboost__eta=0.6, xgboost__lambda=2, xgboost__max_depth=10, xgboost__n_estimators=1000; total time=  24.4s\n",
      "[CV] END xgboost__eta=0.6, xgboost__lambda=2, xgboost__max_depth=10, xgboost__n_estimators=1000; total time=  23.0s\n"
     ]
    },
    {
     "name": "stdout",
     "output_type": "stream",
     "text": [
      "[CV] END xgboost__eta=0.6, xgboost__lambda=2, xgboost__max_depth=10, xgboost__n_estimators=1000; total time=  20.7s\n",
      "[CV] END xgboost__eta=0.6, xgboost__lambda=10, xgboost__max_depth=3, xgboost__n_estimators=100; total time=   2.4s\n",
      "[CV] END xgboost__eta=0.6, xgboost__lambda=10, xgboost__max_depth=3, xgboost__n_estimators=100; total time=   2.4s\n",
      "[CV] END xgboost__eta=0.6, xgboost__lambda=10, xgboost__max_depth=3, xgboost__n_estimators=100; total time=   3.0s\n",
      "[CV] END xgboost__eta=0.6, xgboost__lambda=10, xgboost__max_depth=3, xgboost__n_estimators=100; total time=   2.5s\n",
      "[CV] END xgboost__eta=0.6, xgboost__lambda=10, xgboost__max_depth=3, xgboost__n_estimators=100; total time=   2.4s\n",
      "[CV] END xgboost__eta=0.6, xgboost__lambda=10, xgboost__max_depth=3, xgboost__n_estimators=100; total time=   2.3s\n",
      "[CV] END xgboost__eta=0.6, xgboost__lambda=10, xgboost__max_depth=3, xgboost__n_estimators=100; total time=   2.4s\n",
      "[CV] END xgboost__eta=0.6, xgboost__lambda=10, xgboost__max_depth=3, xgboost__n_estimators=100; total time=   2.3s\n",
      "[CV] END xgboost__eta=0.6, xgboost__lambda=10, xgboost__max_depth=3, xgboost__n_estimators=100; total time=   2.9s\n",
      "[CV] END xgboost__eta=0.6, xgboost__lambda=10, xgboost__max_depth=3, xgboost__n_estimators=100; total time=   2.3s\n",
      "[CV] END xgboost__eta=0.6, xgboost__lambda=10, xgboost__max_depth=3, xgboost__n_estimators=500; total time=  11.3s\n",
      "[CV] END xgboost__eta=0.6, xgboost__lambda=10, xgboost__max_depth=3, xgboost__n_estimators=500; total time=  11.3s\n",
      "[CV] END xgboost__eta=0.6, xgboost__lambda=10, xgboost__max_depth=3, xgboost__n_estimators=500; total time=  11.8s\n",
      "[CV] END xgboost__eta=0.6, xgboost__lambda=10, xgboost__max_depth=3, xgboost__n_estimators=500; total time=  11.3s\n",
      "[CV] END xgboost__eta=0.6, xgboost__lambda=10, xgboost__max_depth=3, xgboost__n_estimators=500; total time=  11.7s\n",
      "[CV] END xgboost__eta=0.6, xgboost__lambda=10, xgboost__max_depth=3, xgboost__n_estimators=500; total time=  10.8s\n",
      "[CV] END xgboost__eta=0.6, xgboost__lambda=10, xgboost__max_depth=3, xgboost__n_estimators=500; total time=  11.2s\n",
      "[CV] END xgboost__eta=0.6, xgboost__lambda=10, xgboost__max_depth=3, xgboost__n_estimators=500; total time=  11.5s\n",
      "[CV] END xgboost__eta=0.6, xgboost__lambda=10, xgboost__max_depth=3, xgboost__n_estimators=500; total time=  11.0s\n",
      "[CV] END xgboost__eta=0.6, xgboost__lambda=10, xgboost__max_depth=3, xgboost__n_estimators=500; total time=  11.0s\n",
      "[CV] END xgboost__eta=0.6, xgboost__lambda=10, xgboost__max_depth=3, xgboost__n_estimators=1000; total time=  24.4s\n",
      "[CV] END xgboost__eta=0.6, xgboost__lambda=10, xgboost__max_depth=3, xgboost__n_estimators=1000; total time=  22.6s\n",
      "[CV] END xgboost__eta=0.6, xgboost__lambda=10, xgboost__max_depth=3, xgboost__n_estimators=1000; total time=  24.5s\n",
      "[CV] END xgboost__eta=0.6, xgboost__lambda=10, xgboost__max_depth=3, xgboost__n_estimators=1000; total time=  22.8s\n",
      "[CV] END xgboost__eta=0.6, xgboost__lambda=10, xgboost__max_depth=3, xgboost__n_estimators=1000; total time=  22.4s\n",
      "[CV] END xgboost__eta=0.6, xgboost__lambda=10, xgboost__max_depth=3, xgboost__n_estimators=1000; total time=  22.8s\n",
      "[CV] END xgboost__eta=0.6, xgboost__lambda=10, xgboost__max_depth=3, xgboost__n_estimators=1000; total time=  22.7s\n",
      "[CV] END xgboost__eta=0.6, xgboost__lambda=10, xgboost__max_depth=3, xgboost__n_estimators=1000; total time=  23.4s\n",
      "[CV] END xgboost__eta=0.6, xgboost__lambda=10, xgboost__max_depth=3, xgboost__n_estimators=1000; total time=  22.0s\n",
      "[CV] END xgboost__eta=0.6, xgboost__lambda=10, xgboost__max_depth=3, xgboost__n_estimators=1000; total time=  22.0s\n",
      "[CV] END xgboost__eta=0.6, xgboost__lambda=10, xgboost__max_depth=6, xgboost__n_estimators=100; total time=   4.8s\n",
      "[CV] END xgboost__eta=0.6, xgboost__lambda=10, xgboost__max_depth=6, xgboost__n_estimators=100; total time=   4.7s\n",
      "[CV] END xgboost__eta=0.6, xgboost__lambda=10, xgboost__max_depth=6, xgboost__n_estimators=100; total time=   5.5s\n",
      "[CV] END xgboost__eta=0.6, xgboost__lambda=10, xgboost__max_depth=6, xgboost__n_estimators=100; total time=   4.9s\n",
      "[CV] END xgboost__eta=0.6, xgboost__lambda=10, xgboost__max_depth=6, xgboost__n_estimators=100; total time=   4.7s\n",
      "[CV] END xgboost__eta=0.6, xgboost__lambda=10, xgboost__max_depth=6, xgboost__n_estimators=100; total time=   4.5s\n",
      "[CV] END xgboost__eta=0.6, xgboost__lambda=10, xgboost__max_depth=6, xgboost__n_estimators=100; total time=   4.7s\n",
      "[CV] END xgboost__eta=0.6, xgboost__lambda=10, xgboost__max_depth=6, xgboost__n_estimators=100; total time=   4.7s\n",
      "[CV] END xgboost__eta=0.6, xgboost__lambda=10, xgboost__max_depth=6, xgboost__n_estimators=100; total time=   4.5s\n",
      "[CV] END xgboost__eta=0.6, xgboost__lambda=10, xgboost__max_depth=6, xgboost__n_estimators=100; total time=   4.5s\n",
      "[CV] END xgboost__eta=0.6, xgboost__lambda=10, xgboost__max_depth=6, xgboost__n_estimators=500; total time=  23.9s\n",
      "[CV] END xgboost__eta=0.6, xgboost__lambda=10, xgboost__max_depth=6, xgboost__n_estimators=500; total time=  23.7s\n",
      "[CV] END xgboost__eta=0.6, xgboost__lambda=10, xgboost__max_depth=6, xgboost__n_estimators=500; total time=  24.8s\n",
      "[CV] END xgboost__eta=0.6, xgboost__lambda=10, xgboost__max_depth=6, xgboost__n_estimators=500; total time=  24.1s\n",
      "[CV] END xgboost__eta=0.6, xgboost__lambda=10, xgboost__max_depth=6, xgboost__n_estimators=500; total time=  22.9s\n",
      "[CV] END xgboost__eta=0.6, xgboost__lambda=10, xgboost__max_depth=6, xgboost__n_estimators=500; total time=  22.7s\n",
      "[CV] END xgboost__eta=0.6, xgboost__lambda=10, xgboost__max_depth=6, xgboost__n_estimators=500; total time=  24.9s\n",
      "[CV] END xgboost__eta=0.6, xgboost__lambda=10, xgboost__max_depth=6, xgboost__n_estimators=500; total time=  23.6s\n",
      "[CV] END xgboost__eta=0.6, xgboost__lambda=10, xgboost__max_depth=6, xgboost__n_estimators=500; total time=  23.9s\n",
      "[CV] END xgboost__eta=0.6, xgboost__lambda=10, xgboost__max_depth=6, xgboost__n_estimators=500; total time=  22.7s\n",
      "[CV] END xgboost__eta=0.6, xgboost__lambda=10, xgboost__max_depth=6, xgboost__n_estimators=1000; total time=  47.4s\n",
      "[CV] END xgboost__eta=0.6, xgboost__lambda=10, xgboost__max_depth=6, xgboost__n_estimators=1000; total time=  46.3s\n",
      "[CV] END xgboost__eta=0.6, xgboost__lambda=10, xgboost__max_depth=6, xgboost__n_estimators=1000; total time=  49.2s\n",
      "[CV] END xgboost__eta=0.6, xgboost__lambda=10, xgboost__max_depth=6, xgboost__n_estimators=1000; total time=  44.2s\n",
      "[CV] END xgboost__eta=0.6, xgboost__lambda=10, xgboost__max_depth=6, xgboost__n_estimators=1000; total time=  30.8s\n",
      "[CV] END xgboost__eta=0.6, xgboost__lambda=10, xgboost__max_depth=6, xgboost__n_estimators=1000; total time=  33.5s\n",
      "[CV] END xgboost__eta=0.6, xgboost__lambda=10, xgboost__max_depth=6, xgboost__n_estimators=1000; total time=  42.5s\n",
      "[CV] END xgboost__eta=0.6, xgboost__lambda=10, xgboost__max_depth=6, xgboost__n_estimators=1000; total time=  42.9s\n",
      "[CV] END xgboost__eta=0.6, xgboost__lambda=10, xgboost__max_depth=6, xgboost__n_estimators=1000; total time=  40.1s\n",
      "[CV] END xgboost__eta=0.6, xgboost__lambda=10, xgboost__max_depth=6, xgboost__n_estimators=1000; total time=  31.5s\n",
      "[CV] END xgboost__eta=0.6, xgboost__lambda=10, xgboost__max_depth=10, xgboost__n_estimators=100; total time=   8.4s\n",
      "[CV] END xgboost__eta=0.6, xgboost__lambda=10, xgboost__max_depth=10, xgboost__n_estimators=100; total time=   8.2s\n",
      "[CV] END xgboost__eta=0.6, xgboost__lambda=10, xgboost__max_depth=10, xgboost__n_estimators=100; total time=   8.9s\n",
      "[CV] END xgboost__eta=0.6, xgboost__lambda=10, xgboost__max_depth=10, xgboost__n_estimators=100; total time=   8.5s\n",
      "[CV] END xgboost__eta=0.6, xgboost__lambda=10, xgboost__max_depth=10, xgboost__n_estimators=100; total time=   8.6s\n",
      "[CV] END xgboost__eta=0.6, xgboost__lambda=10, xgboost__max_depth=10, xgboost__n_estimators=100; total time=   8.0s\n",
      "[CV] END xgboost__eta=0.6, xgboost__lambda=10, xgboost__max_depth=10, xgboost__n_estimators=100; total time=   8.2s\n",
      "[CV] END xgboost__eta=0.6, xgboost__lambda=10, xgboost__max_depth=10, xgboost__n_estimators=100; total time=   8.2s\n",
      "[CV] END xgboost__eta=0.6, xgboost__lambda=10, xgboost__max_depth=10, xgboost__n_estimators=100; total time=   7.8s\n",
      "[CV] END xgboost__eta=0.6, xgboost__lambda=10, xgboost__max_depth=10, xgboost__n_estimators=100; total time=   8.0s\n"
     ]
    },
    {
     "name": "stdout",
     "output_type": "stream",
     "text": [
      "[CV] END xgboost__eta=0.6, xgboost__lambda=10, xgboost__max_depth=10, xgboost__n_estimators=500; total time=  27.9s\n",
      "[CV] END xgboost__eta=0.6, xgboost__lambda=10, xgboost__max_depth=10, xgboost__n_estimators=500; total time=  23.7s\n",
      "[CV] END xgboost__eta=0.6, xgboost__lambda=10, xgboost__max_depth=10, xgboost__n_estimators=500; total time=  30.0s\n",
      "[CV] END xgboost__eta=0.6, xgboost__lambda=10, xgboost__max_depth=10, xgboost__n_estimators=500; total time=  22.0s\n",
      "[CV] END xgboost__eta=0.6, xgboost__lambda=10, xgboost__max_depth=10, xgboost__n_estimators=500; total time=  16.8s\n",
      "[CV] END xgboost__eta=0.6, xgboost__lambda=10, xgboost__max_depth=10, xgboost__n_estimators=500; total time=  18.3s\n",
      "[CV] END xgboost__eta=0.6, xgboost__lambda=10, xgboost__max_depth=10, xgboost__n_estimators=500; total time=  21.7s\n",
      "[CV] END xgboost__eta=0.6, xgboost__lambda=10, xgboost__max_depth=10, xgboost__n_estimators=500; total time=  23.8s\n",
      "[CV] END xgboost__eta=0.6, xgboost__lambda=10, xgboost__max_depth=10, xgboost__n_estimators=500; total time=  23.0s\n",
      "[CV] END xgboost__eta=0.6, xgboost__lambda=10, xgboost__max_depth=10, xgboost__n_estimators=500; total time=  18.9s\n",
      "[CV] END xgboost__eta=0.6, xgboost__lambda=10, xgboost__max_depth=10, xgboost__n_estimators=1000; total time=  30.7s\n",
      "[CV] END xgboost__eta=0.6, xgboost__lambda=10, xgboost__max_depth=10, xgboost__n_estimators=1000; total time=  28.7s\n",
      "[CV] END xgboost__eta=0.6, xgboost__lambda=10, xgboost__max_depth=10, xgboost__n_estimators=1000; total time=  35.0s\n",
      "[CV] END xgboost__eta=0.6, xgboost__lambda=10, xgboost__max_depth=10, xgboost__n_estimators=1000; total time=  28.9s\n",
      "[CV] END xgboost__eta=0.6, xgboost__lambda=10, xgboost__max_depth=10, xgboost__n_estimators=1000; total time=  21.0s\n",
      "[CV] END xgboost__eta=0.6, xgboost__lambda=10, xgboost__max_depth=10, xgboost__n_estimators=1000; total time=  24.0s\n",
      "[CV] END xgboost__eta=0.6, xgboost__lambda=10, xgboost__max_depth=10, xgboost__n_estimators=1000; total time=  25.8s\n",
      "[CV] END xgboost__eta=0.6, xgboost__lambda=10, xgboost__max_depth=10, xgboost__n_estimators=1000; total time=  29.9s\n",
      "[CV] END xgboost__eta=0.6, xgboost__lambda=10, xgboost__max_depth=10, xgboost__n_estimators=1000; total time=  28.7s\n",
      "[CV] END xgboost__eta=0.6, xgboost__lambda=10, xgboost__max_depth=10, xgboost__n_estimators=1000; total time=  23.9s\n"
     ]
    }
   ],
   "source": [
    "scores_grid_search = grid_search.fit(X_new, new_targets)"
   ]
  },
  {
   "cell_type": "code",
   "execution_count": 134,
   "metadata": {},
   "outputs": [
    {
     "name": "stdout",
     "output_type": "stream",
     "text": [
      "Best accuracy obtained: -0.005568739909547321\n",
      "Parameters:\n",
      "\txgboost__eta: 0.1\n",
      "\txgboost__lambda: 10\n",
      "\txgboost__max_depth: 6\n",
      "\txgboost__n_estimators: 100\n"
     ]
    }
   ],
   "source": [
    "print(\"Best accuracy obtained: {0}\".format(scores_grid_search.best_score_))\n",
    "print(\"Parameters:\")\n",
    "for key, value in scores_grid_search.best_params_.items():\n",
    "    print(\"\\t{}: {}\".format(key, value))"
   ]
  },
  {
   "cell_type": "code",
   "execution_count": 145,
   "metadata": {},
   "outputs": [
    {
     "data": {
      "text/plain": [
       "array([-0.00567987, -0.00608488, -0.00633071, -0.00574416, -0.00616269,\n",
       "       -0.00633532, -0.0060882 , -0.00640429, -0.00646801, -0.0057477 ,\n",
       "       -0.00594279, -0.0063122 , -0.00557192, -0.00592372, -0.00607545,\n",
       "       -0.00582072, -0.00620575, -0.00628748, -0.00573681, -0.00571809,\n",
       "       -0.00581805, -0.00556874, -0.0057554 , -0.00590021, -0.00592121,\n",
       "       -0.00629904, -0.00642758, -0.00583226, -0.00662683, -0.00683811,\n",
       "       -0.00634998, -0.00682284, -0.00695876, -0.00680752, -0.00706039,\n",
       "       -0.00706039, -0.00569071, -0.00632228, -0.00665463, -0.00589816,\n",
       "       -0.00626895, -0.00643841, -0.00634679, -0.00657338, -0.00657338,\n",
       "       -0.0057153 , -0.00599055, -0.00637775, -0.00577384, -0.00618781,\n",
       "       -0.0063286 , -0.00637637, -0.00669947, -0.00670366, -0.00694314,\n",
       "       -0.00827652, -0.00843114, -0.0068019 , -0.00740613, -0.00751581,\n",
       "       -0.00722177, -0.00737652, -0.00737652, -0.00638522, -0.00706448,\n",
       "       -0.00742884, -0.00710452, -0.00766812, -0.00775392, -0.00791567,\n",
       "       -0.0080617 , -0.0080617 , -0.00638138, -0.00683469, -0.00715798,\n",
       "       -0.00627484, -0.00680881, -0.00694179, -0.00661113, -0.00677285,\n",
       "       -0.00677285])"
      ]
     },
     "execution_count": 145,
     "metadata": {},
     "output_type": "execute_result"
    }
   ],
   "source": [
    "scores_grid_search.cv_results_['mean_test_score']"
   ]
  },
  {
   "cell_type": "code",
   "execution_count": 141,
   "metadata": {},
   "outputs": [
    {
     "data": {
      "text/plain": [
       "dict_keys(['mean_fit_time', 'std_fit_time', 'mean_score_time', 'std_score_time', 'param_xgboost__eta', 'param_xgboost__lambda', 'param_xgboost__max_depth', 'param_xgboost__n_estimators', 'params', 'split0_test_score', 'split1_test_score', 'split2_test_score', 'split3_test_score', 'split4_test_score', 'split5_test_score', 'split6_test_score', 'split7_test_score', 'split8_test_score', 'split9_test_score', 'mean_test_score', 'std_test_score', 'rank_test_score'])"
      ]
     },
     "execution_count": 141,
     "metadata": {},
     "output_type": "execute_result"
    }
   ],
   "source": [
    "scores_grid_search.cv_results_.keys()"
   ]
  },
  {
   "cell_type": "code",
   "execution_count": 143,
   "metadata": {},
   "outputs": [
    {
     "data": {
      "text/plain": [
       "{'xgboost__eta': 0.1,\n",
       " 'xgboost__lambda': 10,\n",
       " 'xgboost__max_depth': 6,\n",
       " 'xgboost__n_estimators': 100}"
      ]
     },
     "execution_count": 143,
     "metadata": {},
     "output_type": "execute_result"
    }
   ],
   "source": [
    "scores_grid_search.cv_results_['params'][21]"
   ]
  },
  {
   "cell_type": "markdown",
   "metadata": {},
   "source": [
    "### Baseline"
   ]
  },
  {
   "cell_type": "code",
   "execution_count": 187,
   "metadata": {},
   "outputs": [
    {
     "name": "stderr",
     "output_type": "stream",
     "text": [
      "[Parallel(n_jobs=1)]: Using backend SequentialBackend with 1 concurrent workers.\n"
     ]
    },
    {
     "name": "stdout",
     "output_type": "stream",
     "text": [
      "[CV] END .................................................... total time=   6.4s\n"
     ]
    },
    {
     "name": "stderr",
     "output_type": "stream",
     "text": [
      "[Parallel(n_jobs=1)]: Done   1 out of   1 | elapsed:    6.4s remaining:    0.0s\n"
     ]
    },
    {
     "name": "stdout",
     "output_type": "stream",
     "text": [
      "[CV] END .................................................... total time=  12.9s\n",
      "[CV] END .................................................... total time=  20.8s\n",
      "[CV] END .................................................... total time=  28.0s\n",
      "[CV] END .................................................... total time=  39.8s\n",
      "[CV] END .................................................... total time=  45.7s\n",
      "[CV] END .................................................... total time=  57.8s\n",
      "[CV] END .................................................... total time= 1.1min\n",
      "[CV] END .................................................... total time=  57.0s\n",
      "[CV] END .................................................... total time= 1.0min\n"
     ]
    },
    {
     "name": "stderr",
     "output_type": "stream",
     "text": [
      "[Parallel(n_jobs=1)]: Done  10 out of  10 | elapsed:  6.6min finished\n"
     ]
    }
   ],
   "source": [
    "best_params = {'eta': 0.1,\n",
    "               'lambda': 10,\n",
    "               'max_depth': 6,\n",
    "               'n_estimators': 100,\n",
    "              }\n",
    "\n",
    "xgb_pipe = Pipeline(steps=[('scaler', StandardScaler()),\n",
    "                          ('xgboost', XGBRegressor(**best_params))])\n",
    "\n",
    "n_folds = 10\n",
    "expanding_cv = TimeSeriesSplit(n_splits=n_folds)\n",
    "\n",
    "expanding_cv_scores = cross_val_score(xgb_pipe, X_xgb, new_targets, cv=expanding_cv, \n",
    "                                      scoring='neg_mean_absolute_error', verbose=2)"
   ]
  },
  {
   "cell_type": "code",
   "execution_count": 166,
   "metadata": {},
   "outputs": [
    {
     "data": {
      "text/plain": [
       "0.005307309358900042"
      ]
     },
     "execution_count": 166,
     "metadata": {},
     "output_type": "execute_result"
    }
   ],
   "source": [
    "np.mean(-1*expanding_cv_scores)"
   ]
  },
  {
   "cell_type": "code",
   "execution_count": 155,
   "metadata": {},
   "outputs": [],
   "source": [
    "def plot_learning_curve(\n",
    "    estimator,\n",
    "    title,\n",
    "    X,\n",
    "    y,\n",
    "    axes=None,\n",
    "    ylim=None,\n",
    "    cv=None,\n",
    "    n_jobs=None,\n",
    "    train_sizes=np.linspace(0.1, 1.0, 10),\n",
    "):\n",
    "    \n",
    "    if axes is None:\n",
    "        _, axes = plt.subplots(1, 1, figsize=(20, 5))\n",
    "\n",
    "    axes.set_title(title)\n",
    "    if ylim is not None:\n",
    "        axes[0].set_ylim(*ylim)\n",
    "    axes.set_xlabel(\"Training examples\")\n",
    "    axes.set_ylabel(\"Score\")\n",
    "\n",
    "    train_sizes, train_scores, test_scores = learning_curve(\n",
    "        estimator,\n",
    "        X,\n",
    "        y,\n",
    "        cv=cv,\n",
    "        n_jobs=n_jobs,\n",
    "        train_sizes=train_sizes,\n",
    "    )\n",
    "    train_scores_mean = np.mean(train_scores, axis=1)\n",
    "    train_scores_std = np.std(train_scores, axis=1)\n",
    "    test_scores_mean = np.mean(test_scores, axis=1)\n",
    "    test_scores_std = np.std(test_scores, axis=1)\n",
    "\n",
    "    # Plot learning curve\n",
    "    axes.grid()\n",
    "    axes.fill_between(\n",
    "        train_sizes,\n",
    "        train_scores_mean - train_scores_std,\n",
    "        train_scores_mean + train_scores_std,\n",
    "        alpha=0.1,\n",
    "        color=\"r\",\n",
    "    )\n",
    "    axes.fill_between(\n",
    "        train_sizes,\n",
    "        test_scores_mean - test_scores_std,\n",
    "        test_scores_mean + test_scores_std,\n",
    "        alpha=0.1,\n",
    "        color=\"g\",\n",
    "    )\n",
    "    axes.plot(\n",
    "        train_sizes, train_scores_mean, \"o-\", color=\"r\", label=\"Training score\"\n",
    "    )\n",
    "    axes.plot(\n",
    "        train_sizes, test_scores_mean, \"o-\", color=\"g\", label=\"Cross-validation score\"\n",
    "    )\n",
    "    axes.legend(loc=\"best\")\n",
    "    return plt\n"
   ]
  },
  {
   "cell_type": "code",
   "execution_count": 156,
   "metadata": {},
   "outputs": [
    {
     "data": {
      "text/plain": [
       "<module 'matplotlib.pyplot' from '/home/mikiu/anaconda3/envs/crypt_venv/lib/python3.9/site-packages/matplotlib/pyplot.py'>"
      ]
     },
     "execution_count": 156,
     "metadata": {},
     "output_type": "execute_result"
    },
    {
     "data": {
      "image/png": "[encoded data removed]",
      "text/plain": [
       "<Figure size 1440x360 with 1 Axes>"
      ]
     },
     "metadata": {
      "needs_background": "light"
     },
     "output_type": "display_data"
    }
   ],
   "source": [
    "plot_learning_curve(xgb_pipe, 'Learning curve for XGBoost', X_xgb, new_targets, cv=expanding_cv)"
   ]
  },
  {
   "cell_type": "code",
   "execution_count": 190,
   "metadata": {},
   "outputs": [
    {
     "data": {
      "image/png": "[encoded data removed]",
      "text/plain": [
       "<Figure size 864x576 with 1 Axes>"
      ]
     },
     "metadata": {
      "needs_background": "light"
     },
     "output_type": "display_data"
    }
   ],
   "source": [
    "best_params = {'eta': 0.1,\n",
    "               'lambda': 10,\n",
    "               'max_depth': 6,\n",
    "               'n_estimators': 100,\n",
    "              }\n",
    "\n",
    "block_cv = BlockTSSplit2(n_splits=10)\n",
    "\n",
    "predicted = list()\n",
    "\n",
    "fig, ax = plt.subplots(figsize=(12,8))\n",
    "ax.plot(new_targets, color='tab:orange', alpha=0.5, label='real target')\n",
    "\n",
    "for train, val in block_cv.split(X_xgb):\n",
    "    X_train = X_xgb.iloc[train]\n",
    "    y_train = new_targets[train]\n",
    "    \n",
    "    X_val = X_xgb.iloc[val]\n",
    "    y_val = new_targets[val]\n",
    "    \n",
    "    xgb_pipe = Pipeline(steps=[('scaler', StandardScaler()),\n",
    "                          ('xgboost', XGBRegressor(**best_params))])\n",
    "    \n",
    "    xgb_pipe.fit(X_train, y_train)\n",
    "    train_predict = xgb_pipe.predict(X_train)\n",
    "    ax.plot(train, train_predict, color='deepskyblue')\n",
    "    \n",
    "    val_predict = xgb_pipe.predict(X_val)\n",
    "    ax.plot(val, val_predict, color='violet')\n",
    "    \n",
    "ax.set_title('XGB regressor')\n",
    "ax.legend()\n",
    "plt.show()\n",
    "\n"
   ]
  },
  {
   "cell_type": "markdown",
   "metadata": {},
   "source": [
    "Still missing out on a lot of the sharp spikes, which is what we care about. "
   ]
  },
  {
   "cell_type": "markdown",
   "metadata": {},
   "source": [
    "## Improving the baseline"
   ]
  },
  {
   "cell_type": "code",
   "execution_count": 191,
   "metadata": {},
   "outputs": [],
   "source": [
    "best_params = {'eta': 0.1,\n",
    "               'lambda': 10,\n",
    "               'max_depth': 6,\n",
    "               'n_estimators': 100,\n",
    "              }\n",
    "\n",
    "xgb_pipe = Pipeline(steps=[('scaler', StandardScaler()),\n",
    "                          ('xgboost', XGBRegressor(**best_params))])\n",
    "\n",
    "block_cv = BlockTSSplit2(n_splits=10)"
   ]
  },
  {
   "cell_type": "markdown",
   "metadata": {},
   "source": [
    "#### Baseline"
   ]
  },
  {
   "cell_type": "code",
   "execution_count": 192,
   "metadata": {},
   "outputs": [
    {
     "data": {
      "text/plain": [
       "0.005568739909547321"
      ]
     },
     "execution_count": 192,
     "metadata": {},
     "output_type": "execute_result"
    }
   ],
   "source": [
    "np.mean(-1* cross_val_score(xgb_pipe, X_xgb, new_targets, cv=block_cv, scoring='neg_mean_absolute_error'))"
   ]
  },
  {
   "cell_type": "markdown",
   "metadata": {},
   "source": [
    "#### Drop\n",
    "Dropping a few of the columns to see if the signal/noise ratio is improved"
   ]
  },
  {
   "cell_type": "code",
   "execution_count": 193,
   "metadata": {},
   "outputs": [
    {
     "name": "stdout",
     "output_type": "stream",
     "text": [
      "column dropped: open\n",
      "mae: 0.005572882051250873\n",
      "\n",
      "\n",
      "column dropped: close\n",
      "mae: 0.0056081749883188925\n",
      "\n",
      "\n",
      "column dropped: high\n",
      "mae: 0.005562270394708501\n",
      "\n",
      "\n",
      "column dropped: low\n",
      "mae: 0.005593265971139148\n",
      "\n",
      "\n",
      "column dropped: volume\n",
      "mae: 0.00565732414078973\n",
      "\n",
      "\n",
      "column dropped: log_rtrn_1m\n",
      "mae: 0.007244383761374189\n",
      "\n",
      "\n",
      "column dropped: average_price\n",
      "mae: 0.005581963424192776\n",
      "\n",
      "\n",
      "column dropped: up_shdw\n",
      "mae: 0.00558892650204945\n",
      "\n",
      "\n",
      "column dropped: dwn_shdw\n",
      "mae: 0.005607690233875441\n",
      "\n",
      "\n",
      "column dropped: vol_15m\n",
      "mae: 0.006245680553392618\n",
      "\n",
      "\n",
      "column dropped: vol_2h\n",
      "mae: 0.0055830029271934905\n",
      "\n",
      "\n",
      "column dropped: vol_gs\n",
      "mae: 0.005565488651148158\n",
      "\n",
      "\n",
      "column dropped: vol_rs\n",
      "mae: 0.005570435729454884\n",
      "\n",
      "\n"
     ]
    }
   ],
   "source": [
    "mae = list()\n",
    "\n",
    "for column in X_new.columns:\n",
    "    print(f'column dropped: {column}')\n",
    "    temp = -1*cross_val_score(xgb_pipe, X_xgb.drop(column, axis=1), new_targets, cv=block_cv, \n",
    "                                      scoring='neg_mean_absolute_error')\n",
    "    mae.append([np.mean(temp), np.std(temp)])\n",
    "    print(f'mae: {np.mean(temp)}')\n",
    "    print('\\n')"
   ]
  },
  {
   "cell_type": "markdown",
   "metadata": {},
   "source": [
    "Huge increase in the error when the 1min log return was dropped as well as the 15min volatility! \n",
    "Let's investigate the inclusion of more short term features. \n",
    "Firstly though, to speed up the evaluation most of the columns will be dropped. "
   ]
  },
  {
   "cell_type": "code",
   "execution_count": 194,
   "metadata": {},
   "outputs": [
    {
     "data": {
      "text/plain": [
       "0.005705886238620722"
      ]
     },
     "execution_count": 194,
     "metadata": {},
     "output_type": "execute_result"
    }
   ],
   "source": [
    "np.mean(-1* cross_val_score(xgb_pipe, X_xgb[['vol_15m', 'log_rtrn_1m','close',\n",
    "                                             'volume','dwn_shdw']], new_targets, cv=block_cv, \n",
    "                           scoring='neg_mean_absolute_error'))"
   ]
  },
  {
   "cell_type": "code",
   "execution_count": 198,
   "metadata": {},
   "outputs": [],
   "source": [
    "btc_xgboost['log_rtrn_5m'] = log_return(btc_xgboost.close, periods=5)\n",
    "btc_xgboost['vol_5m'] = btc_xgboost.close.rolling(5, min_periods=1).std()"
   ]
  },
  {
   "cell_type": "code",
   "execution_count": 199,
   "metadata": {},
   "outputs": [],
   "source": [
    "columns = ['vol_15m', 'log_rtrn_1m','close','volume','dwn_shdw', 'log_rtrn_5m', 'vol_5m']\n",
    "X_xgb_new = btc_xgboost[columns].loc[last_year:].iloc[:-2].iloc[4:-4]"
   ]
  },
  {
   "cell_type": "code",
   "execution_count": 200,
   "metadata": {},
   "outputs": [
    {
     "data": {
      "text/plain": [
       "0.0047479459301410796"
      ]
     },
     "execution_count": 200,
     "metadata": {},
     "output_type": "execute_result"
    }
   ],
   "source": [
    "np.mean(-1 * cross_val_score(xgb_pipe, X_xgb_new, new_targets, cv=block_cv, scoring='neg_mean_absolute_error'))"
   ]
  },
  {
   "cell_type": "markdown",
   "metadata": {},
   "source": [
    "#### Huge improvement!"
   ]
  },
  {
   "cell_type": "code",
   "execution_count": 203,
   "metadata": {},
   "outputs": [
    {
     "data": {
      "text/plain": [
       "0.004657041223176736"
      ]
     },
     "execution_count": 203,
     "metadata": {},
     "output_type": "execute_result"
    }
   ],
   "source": [
    "btc_xgboost['log_rtrn_2m'] = log_return(btc_xgboost.close, periods=2)\n",
    "columns.append('log_rtrn_2m')\n",
    "X_xgb_new = btc_xgboost[columns].loc[last_year:].iloc[:-2].iloc[4:-4]\n",
    "np.mean(-1 * cross_val_score(xgb_pipe, X_xgb_new, new_targets, cv=block_cv, scoring='neg_mean_absolute_error'))"
   ]
  },
  {
   "cell_type": "code",
   "execution_count": 204,
   "metadata": {},
   "outputs": [
    {
     "data": {
      "text/html": [
       "<div>\n",
       "<style scoped>\n",
       "    .dataframe tbody tr th:only-of-type {\n",
       "        vertical-align: middle;\n",
       "    }\n",
       "\n",
       "    .dataframe tbody tr th {\n",
       "        vertical-align: top;\n",
       "    }\n",
       "\n",
       "    .dataframe thead th {\n",
       "        text-align: right;\n",
       "    }\n",
       "</style>\n",
       "<table border=\"1\" class=\"dataframe\">\n",
       "  <thead>\n",
       "    <tr style=\"text-align: right;\">\n",
       "      <th></th>\n",
       "      <th>vol_15m</th>\n",
       "      <th>log_rtrn_1m</th>\n",
       "      <th>close</th>\n",
       "      <th>volume</th>\n",
       "      <th>dwn_shdw</th>\n",
       "      <th>log_rtrn_5m</th>\n",
       "      <th>vol_5m</th>\n",
       "      <th>log_rtrn_15m</th>\n",
       "      <th>log_rtrn_2m</th>\n",
       "    </tr>\n",
       "  </thead>\n",
       "  <tbody>\n",
       "    <tr>\n",
       "      <th>2021-02-13 08:15:00</th>\n",
       "      <td>171.406645</td>\n",
       "      <td>-0.002456</td>\n",
       "      <td>47174.000000</td>\n",
       "      <td>3.889543</td>\n",
       "      <td>0.000000</td>\n",
       "      <td>0.000085</td>\n",
       "      <td>60.738786</td>\n",
       "      <td>0.000848</td>\n",
       "      <td>-0.002456</td>\n",
       "    </tr>\n",
       "    <tr>\n",
       "      <th>2021-02-13 08:16:00</th>\n",
       "      <td>173.034540</td>\n",
       "      <td>0.000318</td>\n",
       "      <td>47189.000000</td>\n",
       "      <td>4.754135</td>\n",
       "      <td>0.000000</td>\n",
       "      <td>-0.003174</td>\n",
       "      <td>56.384396</td>\n",
       "      <td>0.001591</td>\n",
       "      <td>-0.002138</td>\n",
       "    </tr>\n",
       "    <tr>\n",
       "      <th>2021-02-13 08:17:00</th>\n",
       "      <td>176.282565</td>\n",
       "      <td>0.000911</td>\n",
       "      <td>47232.000000</td>\n",
       "      <td>10.283806</td>\n",
       "      <td>20.000000</td>\n",
       "      <td>-0.000762</td>\n",
       "      <td>54.534394</td>\n",
       "      <td>0.002459</td>\n",
       "      <td>0.001229</td>\n",
       "    </tr>\n",
       "    <tr>\n",
       "      <th>2021-02-13 08:18:00</th>\n",
       "      <td>175.544404</td>\n",
       "      <td>0.001904</td>\n",
       "      <td>47322.000000</td>\n",
       "      <td>5.587356</td>\n",
       "      <td>0.000000</td>\n",
       "      <td>0.000676</td>\n",
       "      <td>63.708713</td>\n",
       "      <td>0.008638</td>\n",
       "      <td>0.002814</td>\n",
       "    </tr>\n",
       "    <tr>\n",
       "      <th>2021-02-13 08:19:00</th>\n",
       "      <td>138.470110</td>\n",
       "      <td>-0.000254</td>\n",
       "      <td>47310.000000</td>\n",
       "      <td>1.571439</td>\n",
       "      <td>28.000000</td>\n",
       "      <td>0.000423</td>\n",
       "      <td>68.005883</td>\n",
       "      <td>0.012464</td>\n",
       "      <td>0.001650</td>\n",
       "    </tr>\n",
       "    <tr>\n",
       "      <th>...</th>\n",
       "      <td>...</td>\n",
       "      <td>...</td>\n",
       "      <td>...</td>\n",
       "      <td>...</td>\n",
       "      <td>...</td>\n",
       "      <td>...</td>\n",
       "      <td>...</td>\n",
       "      <td>...</td>\n",
       "      <td>...</td>\n",
       "    </tr>\n",
       "    <tr>\n",
       "      <th>2022-02-13 08:02:00</th>\n",
       "      <td>19.764741</td>\n",
       "      <td>0.000424</td>\n",
       "      <td>42432.000000</td>\n",
       "      <td>0.391022</td>\n",
       "      <td>0.000000</td>\n",
       "      <td>-0.000306</td>\n",
       "      <td>15.189387</td>\n",
       "      <td>0.000896</td>\n",
       "      <td>-0.000118</td>\n",
       "    </tr>\n",
       "    <tr>\n",
       "      <th>2022-02-13 08:03:00</th>\n",
       "      <td>16.202135</td>\n",
       "      <td>0.000283</td>\n",
       "      <td>42444.000000</td>\n",
       "      <td>0.813080</td>\n",
       "      <td>2.319708</td>\n",
       "      <td>-0.000165</td>\n",
       "      <td>13.817557</td>\n",
       "      <td>0.001166</td>\n",
       "      <td>0.000707</td>\n",
       "    </tr>\n",
       "    <tr>\n",
       "      <th>2022-02-13 08:04:00</th>\n",
       "      <td>11.839045</td>\n",
       "      <td>0.000011</td>\n",
       "      <td>42444.478745</td>\n",
       "      <td>2.934302</td>\n",
       "      <td>0.478745</td>\n",
       "      <td>-0.000134</td>\n",
       "      <td>12.473641</td>\n",
       "      <td>0.001072</td>\n",
       "      <td>0.000294</td>\n",
       "    </tr>\n",
       "    <tr>\n",
       "      <th>2022-02-13 08:05:00</th>\n",
       "      <td>11.573706</td>\n",
       "      <td>-0.000011</td>\n",
       "      <td>42444.000000</td>\n",
       "      <td>4.072066</td>\n",
       "      <td>0.000000</td>\n",
       "      <td>0.000165</td>\n",
       "      <td>13.223335</td>\n",
       "      <td>0.000259</td>\n",
       "      <td>0.000000</td>\n",
       "    </tr>\n",
       "    <tr>\n",
       "      <th>2022-02-13 08:06:00</th>\n",
       "      <td>11.775557</td>\n",
       "      <td>-0.000256</td>\n",
       "      <td>42433.129347</td>\n",
       "      <td>1.573552</td>\n",
       "      <td>13.129347</td>\n",
       "      <td>0.000451</td>\n",
       "      <td>6.366335</td>\n",
       "      <td>-0.000107</td>\n",
       "      <td>-0.000267</td>\n",
       "    </tr>\n",
       "  </tbody>\n",
       "</table>\n",
       "<p>525592 rows × 9 columns</p>\n",
       "</div>"
      ],
      "text/plain": [
       "                        vol_15m  log_rtrn_1m         close     volume  \\\n",
       "2021-02-13 08:15:00  171.406645    -0.002456  47174.000000   3.889543   \n",
       "2021-02-13 08:16:00  173.034540     0.000318  47189.000000   4.754135   \n",
       "2021-02-13 08:17:00  176.282565     0.000911  47232.000000  10.283806   \n",
       "2021-02-13 08:18:00  175.544404     0.001904  47322.000000   5.587356   \n",
       "2021-02-13 08:19:00  138.470110    -0.000254  47310.000000   1.571439   \n",
       "...                         ...          ...           ...        ...   \n",
       "2022-02-13 08:02:00   19.764741     0.000424  42432.000000   0.391022   \n",
       "2022-02-13 08:03:00   16.202135     0.000283  42444.000000   0.813080   \n",
       "2022-02-13 08:04:00   11.839045     0.000011  42444.478745   2.934302   \n",
       "2022-02-13 08:05:00   11.573706    -0.000011  42444.000000   4.072066   \n",
       "2022-02-13 08:06:00   11.775557    -0.000256  42433.129347   1.573552   \n",
       "\n",
       "                      dwn_shdw  log_rtrn_5m     vol_5m  log_rtrn_15m  \\\n",
       "2021-02-13 08:15:00   0.000000     0.000085  60.738786      0.000848   \n",
       "2021-02-13 08:16:00   0.000000    -0.003174  56.384396      0.001591   \n",
       "2021-02-13 08:17:00  20.000000    -0.000762  54.534394      0.002459   \n",
       "2021-02-13 08:18:00   0.000000     0.000676  63.708713      0.008638   \n",
       "2021-02-13 08:19:00  28.000000     0.000423  68.005883      0.012464   \n",
       "...                        ...          ...        ...           ...   \n",
       "2022-02-13 08:02:00   0.000000    -0.000306  15.189387      0.000896   \n",
       "2022-02-13 08:03:00   2.319708    -0.000165  13.817557      0.001166   \n",
       "2022-02-13 08:04:00   0.478745    -0.000134  12.473641      0.001072   \n",
       "2022-02-13 08:05:00   0.000000     0.000165  13.223335      0.000259   \n",
       "2022-02-13 08:06:00  13.129347     0.000451   6.366335     -0.000107   \n",
       "\n",
       "                     log_rtrn_2m  \n",
       "2021-02-13 08:15:00    -0.002456  \n",
       "2021-02-13 08:16:00    -0.002138  \n",
       "2021-02-13 08:17:00     0.001229  \n",
       "2021-02-13 08:18:00     0.002814  \n",
       "2021-02-13 08:19:00     0.001650  \n",
       "...                          ...  \n",
       "2022-02-13 08:02:00    -0.000118  \n",
       "2022-02-13 08:03:00     0.000707  \n",
       "2022-02-13 08:04:00     0.000294  \n",
       "2022-02-13 08:05:00     0.000000  \n",
       "2022-02-13 08:06:00    -0.000267  \n",
       "\n",
       "[525592 rows x 9 columns]"
      ]
     },
     "execution_count": 204,
     "metadata": {},
     "output_type": "execute_result"
    }
   ],
   "source": [
    "X_xgb_new"
   ]
  },
  {
   "cell_type": "code",
   "execution_count": 205,
   "metadata": {},
   "outputs": [
    {
     "data": {
      "image/png": "[encoded data removed]",
      "text/plain": [
       "<Figure size 864x576 with 1 Axes>"
      ]
     },
     "metadata": {
      "needs_background": "light"
     },
     "output_type": "display_data"
    }
   ],
   "source": [
    "best_params = {'eta': 0.1,\n",
    "               'lambda': 10,\n",
    "               'max_depth': 6,\n",
    "               'n_estimators': 100,\n",
    "              }\n",
    "\n",
    "block_cv = BlockTSSplit2(n_splits=10)\n",
    "\n",
    "predicted = list()\n",
    "\n",
    "fig, ax = plt.subplots(figsize=(12,8))\n",
    "ax.plot(new_targets, color='tab:orange', alpha=0.5, label='real target')\n",
    "\n",
    "for train, val in block_cv.split(X_xgb_new):\n",
    "    X_train = X_xgb_new.iloc[train]\n",
    "    y_train = new_targets[train]\n",
    "    \n",
    "    X_val = X_xgb_new.iloc[val]\n",
    "    y_val = new_targets[val]\n",
    "    \n",
    "    xgb_pipe = Pipeline(steps=[('scaler', StandardScaler()),\n",
    "                          ('xgboost', XGBRegressor(**best_params))])\n",
    "    \n",
    "    xgb_pipe.fit(X_train, y_train)\n",
    "    train_predict = xgb_pipe.predict(X_train)\n",
    "    ax.plot(train, train_predict, color='deepskyblue')\n",
    "    \n",
    "    val_predict = xgb_pipe.predict(X_val)\n",
    "    ax.plot(val, val_predict, color='violet')\n",
    "    \n",
    "ax.set_title('XGB regressor')\n",
    "ax.legend()\n",
    "plt.show()\n",
    "\n"
   ]
  },
  {
   "cell_type": "markdown",
   "metadata": {},
   "source": [
    "Still some work to be done regarding the spikes!"
   ]
  },
  {
   "cell_type": "markdown",
   "metadata": {},
   "source": [
    "### Inspecting the full predictions "
   ]
  },
  {
   "cell_type": "code",
   "execution_count": 206,
   "metadata": {},
   "outputs": [],
   "source": [
    "best_params = {'eta': 0.1,\n",
    "               'lambda': 10,\n",
    "               'max_depth': 6,\n",
    "               'n_estimators': 100,\n",
    "              }\n",
    "\n",
    "\n",
    "xgb_pipe = Pipeline(steps=[('scaler', StandardScaler()),\n",
    "                          ('xgboost', XGBRegressor(**best_params))])\n",
    "\n",
    "xgb_pipe.fit(X_xgb_new, new_targets)\n",
    "\n",
    "xgb_preds = xgb_pipe.predict(X_xgb_new)"
   ]
  },
  {
   "cell_type": "code",
   "execution_count": 216,
   "metadata": {},
   "outputs": [],
   "source": [
    "total_preds = y_lstm.reshape(-1) + xgb_preds"
   ]
  },
  {
   "cell_type": "code",
   "execution_count": 218,
   "metadata": {},
   "outputs": [
    {
     "data": {
      "image/png": "[encoded data removed]",
      "text/plain": [
       "<Figure size 1008x576 with 1 Axes>"
      ]
     },
     "metadata": {
      "needs_background": "light"
     },
     "output_type": "display_data"
    }
   ],
   "source": [
    "fig, ax = plt.subplots(figsize=(14,8))\n",
    "\n",
    "ax.plot(total_preds, label='predictions')\n",
    "ax.plot(real_targets, label='real',alpha=0.6)\n",
    "ax.plot(real_targets - total_preds, label='residuals',color='tab:purple', alpha=0.5)\n",
    "ax.legend()\n",
    "ax.set_title('BTC price over the past year')\n",
    "plt.show()\n"
   ]
  },
  {
   "cell_type": "code",
   "execution_count": 219,
   "metadata": {},
   "outputs": [
    {
     "data": {
      "text/plain": [
       "0.0038157023978861878"
      ]
     },
     "execution_count": 219,
     "metadata": {},
     "output_type": "execute_result"
    }
   ],
   "source": [
    "np.mean(np.abs(real_targets - total_preds))"
   ]
  },
  {
   "cell_type": "code",
   "execution_count": 233,
   "metadata": {},
   "outputs": [
    {
     "data": {
      "text/plain": [
       "0.0035998453847098312"
      ]
     },
     "execution_count": 233,
     "metadata": {},
     "output_type": "execute_result"
    }
   ],
   "source": [
    "np.mean(np.abs(real_targets[:-1] - np.roll(real_targets, -1)[:-1]))"
   ]
  },
  {
   "cell_type": "markdown",
   "metadata": {},
   "source": [
    "### Nearly better than the common sense baseline!"
   ]
  }
 ],
 "metadata": {
  "kernelspec": {
   "display_name": "crypt_venv",
   "language": "python",
   "name": "crypt_venv"
  },
  "language_info": {
   "codemirror_mode": {
    "name": "ipython",
    "version": 3
   },
   "file_extension": ".py",
   "mimetype": "text/x-python",
   "name": "python",
   "nbconvert_exporter": "python",
   "pygments_lexer": "ipython3",
   "version": "3.9.7"
  }
 },
 "nbformat": 4,
 "nbformat_minor": 2
}
