{
 "cells": [
  {
   "cell_type": "code",
   "execution_count": 53,
   "metadata": {},
   "outputs": [],
   "source": [
    "import pandas as pd\n",
    "import numpy as np \n",
    "import matplotlib.pyplot as plt \n",
    "import os\n",
    "from misc import *\n",
    "from sklearn.feature_selection import mutual_info_regression"
   ]
  },
  {
   "cell_type": "code",
   "execution_count": 21,
   "metadata": {},
   "outputs": [],
   "source": [
    "# load data files\n",
    "coin_names = ['btc', 'eth']\n",
    "coins = dict()\n",
    "cwd = os.getcwd() + '/'\n",
    "\n",
    "for coin in coin_names:\n",
    "    coins[coin] = pd.read_pickle(cwd + coin)"
   ]
  },
  {
   "cell_type": "code",
   "execution_count": 12,
   "metadata": {},
   "outputs": [
    {
     "data": {
      "text/html": [
       "<div>\n",
       "<style scoped>\n",
       "    .dataframe tbody tr th:only-of-type {\n",
       "        vertical-align: middle;\n",
       "    }\n",
       "\n",
       "    .dataframe tbody tr th {\n",
       "        vertical-align: top;\n",
       "    }\n",
       "\n",
       "    .dataframe thead th {\n",
       "        text-align: right;\n",
       "    }\n",
       "</style>\n",
       "<table border=\"1\" class=\"dataframe\">\n",
       "  <thead>\n",
       "    <tr style=\"text-align: right;\">\n",
       "      <th></th>\n",
       "      <th>open</th>\n",
       "      <th>close</th>\n",
       "      <th>high</th>\n",
       "      <th>low</th>\n",
       "      <th>volume</th>\n",
       "      <th>log_rtrn_1m</th>\n",
       "    </tr>\n",
       "  </thead>\n",
       "  <tbody>\n",
       "    <tr>\n",
       "      <th>2018-01-01 00:02:00</th>\n",
       "      <td>13774.0</td>\n",
       "      <td>13742.0</td>\n",
       "      <td>13777.0</td>\n",
       "      <td>13741.0</td>\n",
       "      <td>16.958926</td>\n",
       "      <td>-0.002181</td>\n",
       "    </tr>\n",
       "    <tr>\n",
       "      <th>2018-01-01 00:03:00</th>\n",
       "      <td>13741.0</td>\n",
       "      <td>13722.0</td>\n",
       "      <td>13742.0</td>\n",
       "      <td>13721.0</td>\n",
       "      <td>25.783042</td>\n",
       "      <td>-0.001456</td>\n",
       "    </tr>\n",
       "    <tr>\n",
       "      <th>2018-01-01 00:04:00</th>\n",
       "      <td>13722.0</td>\n",
       "      <td>13709.0</td>\n",
       "      <td>13722.0</td>\n",
       "      <td>13709.0</td>\n",
       "      <td>11.431000</td>\n",
       "      <td>-0.000948</td>\n",
       "    </tr>\n",
       "    <tr>\n",
       "      <th>2018-01-01 00:05:00</th>\n",
       "      <td>13710.0</td>\n",
       "      <td>13628.0</td>\n",
       "      <td>13710.0</td>\n",
       "      <td>13559.0</td>\n",
       "      <td>169.517133</td>\n",
       "      <td>-0.005926</td>\n",
       "    </tr>\n",
       "    <tr>\n",
       "      <th>2018-01-01 00:06:00</th>\n",
       "      <td>13628.0</td>\n",
       "      <td>13625.0</td>\n",
       "      <td>13637.0</td>\n",
       "      <td>13621.0</td>\n",
       "      <td>21.351554</td>\n",
       "      <td>-0.000220</td>\n",
       "    </tr>\n",
       "  </tbody>\n",
       "</table>\n",
       "</div>"
      ],
      "text/plain": [
       "                        open    close     high      low      volume  \\\n",
       "2018-01-01 00:02:00  13774.0  13742.0  13777.0  13741.0   16.958926   \n",
       "2018-01-01 00:03:00  13741.0  13722.0  13742.0  13721.0   25.783042   \n",
       "2018-01-01 00:04:00  13722.0  13709.0  13722.0  13709.0   11.431000   \n",
       "2018-01-01 00:05:00  13710.0  13628.0  13710.0  13559.0  169.517133   \n",
       "2018-01-01 00:06:00  13628.0  13625.0  13637.0  13621.0   21.351554   \n",
       "\n",
       "                     log_rtrn_1m  \n",
       "2018-01-01 00:02:00    -0.002181  \n",
       "2018-01-01 00:03:00    -0.001456  \n",
       "2018-01-01 00:04:00    -0.000948  \n",
       "2018-01-01 00:05:00    -0.005926  \n",
       "2018-01-01 00:06:00    -0.000220  "
      ]
     },
     "execution_count": 12,
     "metadata": {},
     "output_type": "execute_result"
    }
   ],
   "source": [
    "coins['btc'].head()"
   ]
  },
  {
   "cell_type": "code",
   "execution_count": 60,
   "metadata": {},
   "outputs": [],
   "source": [
    "def features_candle_stick(df):\n",
    "    X = pd.DataFrame()\n",
    "    X['average_price'] = (df.close + df.high + df.low) / 3\n",
    "    X['up_shdw'] = df.high - np.maximum(df.close, df.open)\n",
    "    X['dwn_shdw'] = np.minimum(df.close, df.open) - df.low\n",
    "    return X\n",
    "\n",
    "def features_volatility(df):\n",
    "    X = pd.DataFrame()\n",
    "    X['vol_15m'] = df.close.rolling(15, min_periods=1).std()\n",
    "    X['vol_2h'] = df.close.rolling('2H', min_periods=1).std()\n",
    "#     garman-klass volatility\n",
    "    X['vol_gs'] = (1 / 2 * np.log(df.high/df.low) ** 2 - (2 * np.log(2) - 1) * np.log(df.close/df.open) ** 2)\n",
    "    \n",
    "    X['vol_rs'] = np.log(df.high/df.close)*np.log(df.high/df.open) + np.log(df.low/df.close)*np.log(df.low/df.open)\n",
    "    return X\n",
    "\n",
    "def features_ewm(df):\n",
    "    X = pd.DataFrame()\n",
    "    X['ewm_21'] = df.close.ewm(span=21, min_periods=5, adjust=False).mean()\n",
    "    X['ewm_35'] = df.close.ewm(span=35, min_periods=5, adjust=False).mean()\n",
    "    X['ewm_80'] = df.close.ewm(span=80, min_periods=5, adjust=False).mean()\n",
    "    X['ewm_250'] = df.close.ewm(span=250, min_periods=5, adjust=False).mean()\n",
    "    return X"
   ]
  },
  {
   "cell_type": "code",
   "execution_count": 81,
   "metadata": {},
   "outputs": [],
   "source": [
    "def make_target(df):\n",
    "    y = pd.DataFrame()\n",
    "#     y['target'] = log_return(df.close, periods=-16) - log_return(df.close, periods=-1)\n",
    "    y['target'] = df.close.shift(-1).dropna()\n",
    "    return y\n"
   ]
  },
  {
   "cell_type": "code",
   "execution_count": 82,
   "metadata": {},
   "outputs": [],
   "source": [
    "coin = 'btc'\n",
    "X = pd.concat([coins[coin], features_ewm(coins[coin])], axis=1).dropna()\n",
    "\n",
    "y = make_target(coins['btc'])\n"
   ]
  },
  {
   "cell_type": "code",
   "execution_count": 83,
   "metadata": {},
   "outputs": [],
   "source": [
    "X,y = X.align(y, join='inner',axis=0)"
   ]
  },
  {
   "cell_type": "code",
   "execution_count": 63,
   "metadata": {},
   "outputs": [],
   "source": [
    "def make_mi_scores(X, y):\n",
    "    mi_scores = mutual_info_regression(X, y)\n",
    "    mi_scores = pd.Series(mi_scores, name=\"MI Scores\", index=X.columns)\n",
    "    mi_scores = mi_scores.sort_values(ascending=False)\n",
    "    return mi_scores"
   ]
  },
  {
   "cell_type": "code",
   "execution_count": 65,
   "metadata": {},
   "outputs": [
    {
     "data": {
      "text/plain": [
       "close          0.872753\n",
       "high           0.829890\n",
       "low            0.826953\n",
       "open           0.791258\n",
       "ewm_21         0.654786\n",
       "ewm_35         0.609358\n",
       "ewm_80         0.542442\n",
       "ewm_250        0.459580\n",
       "log_rtrn_1m    0.121671\n",
       "log_rtrn       0.121658\n",
       "volume         0.058766\n",
       "Name: MI Scores, dtype: float64"
      ]
     },
     "metadata": {},
     "output_type": "display_data"
    }
   ],
   "source": [
    "temp2 = make_mi_scores(X,y)\n",
    "display(temp2)"
   ]
  },
  {
   "cell_type": "code",
   "execution_count": 55,
   "metadata": {},
   "outputs": [
    {
     "data": {
      "text/plain": [
       "array([0.79127577, 0.87275275, 0.82985689, 0.82676975, 0.0587861 ,\n",
       "       0.12167156, 0.12176176, 0.85733117, 0.03729711, 0.03669953,\n",
       "       0.1111585 , 0.12173588, 0.115492  , 0.07991364, 0.65476636])"
      ]
     },
     "execution_count": 55,
     "metadata": {},
     "output_type": "execute_result"
    }
   ],
   "source": [
    "mutual_info_regression(X,y)"
   ]
  },
  {
   "cell_type": "code",
   "execution_count": 57,
   "metadata": {},
   "outputs": [],
   "source": [
    "temp = pd.Series(np.array([0.79127577, 0.87275275, 0.82985689, 0.82676975, 0.0587861 ,\n",
    "       0.12167156, 0.12176176, 0.85733117, 0.03729711, 0.03669953,\n",
    "       0.1111585 , 0.12173588, 0.115492  , 0.07991364, 0.65476636]), index=X.columns)"
   ]
  },
  {
   "cell_type": "code",
   "execution_count": 59,
   "metadata": {},
   "outputs": [
    {
     "data": {
      "text/plain": [
       "close            0.872753\n",
       "average_price    0.857331\n",
       "high             0.829857\n",
       "low              0.826770\n",
       "open             0.791276\n",
       "ewm_21           0.654766\n",
       "log_rtrn_1m      0.121762\n",
       "vol_2h           0.121736\n",
       "log_rtrn         0.121672\n",
       "vol_gs           0.115492\n",
       "vol_15m          0.111158\n",
       "vol_rs           0.079914\n",
       "volume           0.058786\n",
       "up_shdw          0.037297\n",
       "dwn_shdw         0.036700\n",
       "dtype: float64"
      ]
     },
     "execution_count": 59,
     "metadata": {},
     "output_type": "execute_result"
    }
   ],
   "source": [
    "temp.sort_values(ascending=False)"
   ]
  },
  {
   "cell_type": "code",
   "execution_count": 84,
   "metadata": {},
   "outputs": [],
   "source": [
    "total = pd.concat([X,y], axis=1)"
   ]
  },
  {
   "cell_type": "code",
   "execution_count": 85,
   "metadata": {},
   "outputs": [],
   "source": [
    "total.to_pickle(cwd + 'btc_total.pkl')"
   ]
  }
 ],
 "metadata": {
  "kernelspec": {
   "display_name": "crypt_venv",
   "language": "python",
   "name": "crypt_venv"
  },
  "language_info": {
   "codemirror_mode": {
    "name": "ipython",
    "version": 3
   },
   "file_extension": ".py",
   "mimetype": "text/x-python",
   "name": "python",
   "nbconvert_exporter": "python",
   "pygments_lexer": "ipython3",
   "version": "3.9.7"
  }
 },
 "nbformat": 4,
 "nbformat_minor": 2
}
